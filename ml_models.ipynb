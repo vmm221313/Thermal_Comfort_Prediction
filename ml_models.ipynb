{
 "cells": [
  {
   "cell_type": "code",
   "execution_count": 1,
   "metadata": {},
   "outputs": [],
   "source": [
    "import numpy as np\n",
    "import pandas as po\n",
    "from collections import Counter\n",
    "import matplotlib.pyplot as plt\n",
    "from pandas_profiling import ProfileReport"
   ]
  },
  {
   "cell_type": "code",
   "execution_count": 2,
   "metadata": {},
   "outputs": [],
   "source": [
    "from sklearn.metrics import matthews_corrcoef\n",
    "from sklearn.model_selection import train_test_split"
   ]
  },
  {
   "cell_type": "code",
   "execution_count": 3,
   "metadata": {},
   "outputs": [],
   "source": [
    "from xgboost import XGBClassifier\n",
    "from sklearn.ensemble import RandomForestClassifier"
   ]
  },
  {
   "cell_type": "code",
   "execution_count": 4,
   "metadata": {},
   "outputs": [],
   "source": [
    "# Imbalanced-learn\n",
    "from imblearn.under_sampling import RandomUnderSampler\n",
    "from imblearn.over_sampling import SMOTE, SVMSMOTE, BorderlineSMOTE, ADASYN"
   ]
  },
  {
   "cell_type": "code",
   "execution_count": 5,
   "metadata": {},
   "outputs": [
    {
     "output_type": "execute_result",
     "data": {
      "text/plain": "        Age  Thermal sensation  PMV  Air temperature (¡C)  \\\n0      15.0               -0.0  0.1                  24.2   \n1      15.0               -2.0  0.1                  24.2   \n2      15.0                0.0  0.1                  24.2   \n3      14.0               -2.0  0.1                  24.2   \n4      15.0               -0.0  0.1                  24.2   \n...     ...                ...  ...                   ...   \n58886  17.0               -2.0  0.1                  23.8   \n58887  15.0               -0.0  0.1                  23.8   \n58888  16.0               -1.0  0.1                  23.8   \n58889  16.0                1.0  0.1                  23.8   \n58890  16.0                1.0  0.1                  23.8   \n\n       Air temperature (¡F)  Radiant temperature (¡C)  \\\n0                      75.6                      23.6   \n1                      75.6                      23.6   \n2                      75.6                      23.6   \n3                      75.6                      23.6   \n4                      75.6                      23.6   \n...                     ...                       ...   \n58886                  74.9                      23.6   \n58887                  74.9                      23.6   \n58888                  74.9                      23.6   \n58889                  74.9                      23.6   \n58890                  74.9                      23.6   \n\n       Radiant temperature (¡F)  Globe temperature (¡C)  \\\n0                          74.4                    24.0   \n1                          74.4                    24.0   \n2                          74.4                    24.0   \n3                          74.4                    24.0   \n4                          74.4                    24.0   \n...                         ...                     ...   \n58886                      74.4                    22.1   \n58887                      74.4                    22.1   \n58888                      74.4                    22.1   \n58889                      74.4                    22.1   \n58890                      74.4                    22.1   \n\n       Globe temperature (¡F)  Relative humidity (%)  ...  Velocity_l (m/s)  \\\n0                        75.2                   50.2  ...              0.08   \n1                        75.2                   50.2  ...              0.08   \n2                        75.2                   50.2  ...              0.08   \n3                        75.2                   50.2  ...              0.08   \n4                        75.2                   50.2  ...              0.08   \n...                       ...                    ...  ...               ...   \n58886                    71.8                   67.4  ...              0.08   \n58887                    71.8                   67.4  ...              0.08   \n58888                    71.8                   67.4  ...              0.08   \n58889                    71.8                   67.4  ...              0.08   \n58890                    71.8                   67.4  ...              0.08   \n\n       Velocity_l (fpm)  Outdoor monthly air temperature (¡C)  \\\n0                 16.54                                  25.0   \n1                 16.54                                  25.0   \n2                 16.54                                  25.0   \n3                 16.54                                  25.0   \n4                 16.54                                  25.0   \n...                 ...                                   ...   \n58886             16.54                                  18.6   \n58887             16.54                                  18.6   \n58888             16.54                                  18.6   \n58889             16.54                                  18.6   \n58890             16.54                                  18.6   \n\n       Outdoor monthly air temperature (¡F)  Season_Autumn  Season_Spring  \\\n0                                     77.00              0              0   \n1                                     77.00              0              0   \n2                                     77.00              0              0   \n3                                     77.00              0              0   \n4                                     77.00              0              0   \n...                                     ...            ...            ...   \n58886                                 65.45              0              0   \n58887                                 65.45              0              0   \n58888                                 65.45              0              0   \n58889                                 65.45              0              0   \n58890                                 65.45              0              0   \n\n       Season_Summer  Season_Winter  Sex_Female  Sex_Male  \n0                  1              0           1         0  \n1                  1              0           1         0  \n2                  1              0           0         1  \n3                  1              0           1         0  \n4                  1              0           0         1  \n...              ...            ...         ...       ...  \n58886              0              1           1         0  \n58887              0              1           1         0  \n58888              0              1           1         0  \n58889              0              1           0         1  \n58890              0              1           1         0  \n\n[58891 rows x 27 columns]",
      "text/html": "<div>\n<style scoped>\n    .dataframe tbody tr th:only-of-type {\n        vertical-align: middle;\n    }\n\n    .dataframe tbody tr th {\n        vertical-align: top;\n    }\n\n    .dataframe thead th {\n        text-align: right;\n    }\n</style>\n<table border=\"1\" class=\"dataframe\">\n  <thead>\n    <tr style=\"text-align: right;\">\n      <th></th>\n      <th>Age</th>\n      <th>Thermal sensation</th>\n      <th>PMV</th>\n      <th>Air temperature (¡C)</th>\n      <th>Air temperature (¡F)</th>\n      <th>Radiant temperature (¡C)</th>\n      <th>Radiant temperature (¡F)</th>\n      <th>Globe temperature (¡C)</th>\n      <th>Globe temperature (¡F)</th>\n      <th>Relative humidity (%)</th>\n      <th>...</th>\n      <th>Velocity_l (m/s)</th>\n      <th>Velocity_l (fpm)</th>\n      <th>Outdoor monthly air temperature (¡C)</th>\n      <th>Outdoor monthly air temperature (¡F)</th>\n      <th>Season_Autumn</th>\n      <th>Season_Spring</th>\n      <th>Season_Summer</th>\n      <th>Season_Winter</th>\n      <th>Sex_Female</th>\n      <th>Sex_Male</th>\n    </tr>\n  </thead>\n  <tbody>\n    <tr>\n      <th>0</th>\n      <td>15.0</td>\n      <td>-0.0</td>\n      <td>0.1</td>\n      <td>24.2</td>\n      <td>75.6</td>\n      <td>23.6</td>\n      <td>74.4</td>\n      <td>24.0</td>\n      <td>75.2</td>\n      <td>50.2</td>\n      <td>...</td>\n      <td>0.08</td>\n      <td>16.54</td>\n      <td>25.0</td>\n      <td>77.00</td>\n      <td>0</td>\n      <td>0</td>\n      <td>1</td>\n      <td>0</td>\n      <td>1</td>\n      <td>0</td>\n    </tr>\n    <tr>\n      <th>1</th>\n      <td>15.0</td>\n      <td>-2.0</td>\n      <td>0.1</td>\n      <td>24.2</td>\n      <td>75.6</td>\n      <td>23.6</td>\n      <td>74.4</td>\n      <td>24.0</td>\n      <td>75.2</td>\n      <td>50.2</td>\n      <td>...</td>\n      <td>0.08</td>\n      <td>16.54</td>\n      <td>25.0</td>\n      <td>77.00</td>\n      <td>0</td>\n      <td>0</td>\n      <td>1</td>\n      <td>0</td>\n      <td>1</td>\n      <td>0</td>\n    </tr>\n    <tr>\n      <th>2</th>\n      <td>15.0</td>\n      <td>0.0</td>\n      <td>0.1</td>\n      <td>24.2</td>\n      <td>75.6</td>\n      <td>23.6</td>\n      <td>74.4</td>\n      <td>24.0</td>\n      <td>75.2</td>\n      <td>50.2</td>\n      <td>...</td>\n      <td>0.08</td>\n      <td>16.54</td>\n      <td>25.0</td>\n      <td>77.00</td>\n      <td>0</td>\n      <td>0</td>\n      <td>1</td>\n      <td>0</td>\n      <td>0</td>\n      <td>1</td>\n    </tr>\n    <tr>\n      <th>3</th>\n      <td>14.0</td>\n      <td>-2.0</td>\n      <td>0.1</td>\n      <td>24.2</td>\n      <td>75.6</td>\n      <td>23.6</td>\n      <td>74.4</td>\n      <td>24.0</td>\n      <td>75.2</td>\n      <td>50.2</td>\n      <td>...</td>\n      <td>0.08</td>\n      <td>16.54</td>\n      <td>25.0</td>\n      <td>77.00</td>\n      <td>0</td>\n      <td>0</td>\n      <td>1</td>\n      <td>0</td>\n      <td>1</td>\n      <td>0</td>\n    </tr>\n    <tr>\n      <th>4</th>\n      <td>15.0</td>\n      <td>-0.0</td>\n      <td>0.1</td>\n      <td>24.2</td>\n      <td>75.6</td>\n      <td>23.6</td>\n      <td>74.4</td>\n      <td>24.0</td>\n      <td>75.2</td>\n      <td>50.2</td>\n      <td>...</td>\n      <td>0.08</td>\n      <td>16.54</td>\n      <td>25.0</td>\n      <td>77.00</td>\n      <td>0</td>\n      <td>0</td>\n      <td>1</td>\n      <td>0</td>\n      <td>0</td>\n      <td>1</td>\n    </tr>\n    <tr>\n      <th>...</th>\n      <td>...</td>\n      <td>...</td>\n      <td>...</td>\n      <td>...</td>\n      <td>...</td>\n      <td>...</td>\n      <td>...</td>\n      <td>...</td>\n      <td>...</td>\n      <td>...</td>\n      <td>...</td>\n      <td>...</td>\n      <td>...</td>\n      <td>...</td>\n      <td>...</td>\n      <td>...</td>\n      <td>...</td>\n      <td>...</td>\n      <td>...</td>\n      <td>...</td>\n      <td>...</td>\n    </tr>\n    <tr>\n      <th>58886</th>\n      <td>17.0</td>\n      <td>-2.0</td>\n      <td>0.1</td>\n      <td>23.8</td>\n      <td>74.9</td>\n      <td>23.6</td>\n      <td>74.4</td>\n      <td>22.1</td>\n      <td>71.8</td>\n      <td>67.4</td>\n      <td>...</td>\n      <td>0.08</td>\n      <td>16.54</td>\n      <td>18.6</td>\n      <td>65.45</td>\n      <td>0</td>\n      <td>0</td>\n      <td>0</td>\n      <td>1</td>\n      <td>1</td>\n      <td>0</td>\n    </tr>\n    <tr>\n      <th>58887</th>\n      <td>15.0</td>\n      <td>-0.0</td>\n      <td>0.1</td>\n      <td>23.8</td>\n      <td>74.9</td>\n      <td>23.6</td>\n      <td>74.4</td>\n      <td>22.1</td>\n      <td>71.8</td>\n      <td>67.4</td>\n      <td>...</td>\n      <td>0.08</td>\n      <td>16.54</td>\n      <td>18.6</td>\n      <td>65.45</td>\n      <td>0</td>\n      <td>0</td>\n      <td>0</td>\n      <td>1</td>\n      <td>1</td>\n      <td>0</td>\n    </tr>\n    <tr>\n      <th>58888</th>\n      <td>16.0</td>\n      <td>-1.0</td>\n      <td>0.1</td>\n      <td>23.8</td>\n      <td>74.9</td>\n      <td>23.6</td>\n      <td>74.4</td>\n      <td>22.1</td>\n      <td>71.8</td>\n      <td>67.4</td>\n      <td>...</td>\n      <td>0.08</td>\n      <td>16.54</td>\n      <td>18.6</td>\n      <td>65.45</td>\n      <td>0</td>\n      <td>0</td>\n      <td>0</td>\n      <td>1</td>\n      <td>1</td>\n      <td>0</td>\n    </tr>\n    <tr>\n      <th>58889</th>\n      <td>16.0</td>\n      <td>1.0</td>\n      <td>0.1</td>\n      <td>23.8</td>\n      <td>74.9</td>\n      <td>23.6</td>\n      <td>74.4</td>\n      <td>22.1</td>\n      <td>71.8</td>\n      <td>67.4</td>\n      <td>...</td>\n      <td>0.08</td>\n      <td>16.54</td>\n      <td>18.6</td>\n      <td>65.45</td>\n      <td>0</td>\n      <td>0</td>\n      <td>0</td>\n      <td>1</td>\n      <td>0</td>\n      <td>1</td>\n    </tr>\n    <tr>\n      <th>58890</th>\n      <td>16.0</td>\n      <td>1.0</td>\n      <td>0.1</td>\n      <td>23.8</td>\n      <td>74.9</td>\n      <td>23.6</td>\n      <td>74.4</td>\n      <td>22.1</td>\n      <td>71.8</td>\n      <td>67.4</td>\n      <td>...</td>\n      <td>0.08</td>\n      <td>16.54</td>\n      <td>18.6</td>\n      <td>65.45</td>\n      <td>0</td>\n      <td>0</td>\n      <td>0</td>\n      <td>1</td>\n      <td>1</td>\n      <td>0</td>\n    </tr>\n  </tbody>\n</table>\n<p>58891 rows × 27 columns</p>\n</div>"
     },
     "metadata": {},
     "execution_count": 5
    }
   ],
   "source": [
    "df = po.read_csv('data/ahrae_processed.csv')\n",
    "df"
   ]
  },
  {
   "cell_type": "code",
   "execution_count": 6,
   "metadata": {},
   "outputs": [
    {
     "output_type": "execute_result",
     "data": {
      "text/plain": "(array([ 5023.,     0., 10059.,     0.,     0., 26551.,     0., 10248.,\n            0.,  7010.]),\n array([-2. , -1.6, -1.2, -0.8, -0.4,  0. ,  0.4,  0.8,  1.2,  1.6,  2. ]),\n <a list of 10 Patch objects>)"
     },
     "metadata": {},
     "execution_count": 6
    },
    {
     "output_type": "display_data",
     "data": {
      "text/plain": "<Figure size 720x360 with 1 Axes>",
      "image/svg+xml": "<?xml version=\"1.0\" encoding=\"utf-8\" standalone=\"no\"?>\n<!DOCTYPE svg PUBLIC \"-//W3C//DTD SVG 1.1//EN\"\n  \"http://www.w3.org/Graphics/SVG/1.1/DTD/svg11.dtd\">\n<!-- Created with matplotlib (https://matplotlib.org/) -->\n<svg height=\"302.878125pt\" version=\"1.1\" viewBox=\"0 0 611.2125 302.878125\" width=\"611.2125pt\" xmlns=\"http://www.w3.org/2000/svg\" xmlns:xlink=\"http://www.w3.org/1999/xlink\">\n <defs>\n  <style type=\"text/css\">\n*{stroke-linecap:butt;stroke-linejoin:round;}\n  </style>\n </defs>\n <g id=\"figure_1\">\n  <g id=\"patch_1\">\n   <path d=\"M 0 302.878125 \nL 611.2125 302.878125 \nL 611.2125 0 \nL 0 0 \nz\n\" style=\"fill:none;\"/>\n  </g>\n  <g id=\"axes_1\">\n   <g id=\"patch_2\">\n    <path d=\"M 46.0125 279 \nL 604.0125 279 \nL 604.0125 7.2 \nL 46.0125 7.2 \nz\n\" style=\"fill:#ffffff;\"/>\n   </g>\n   <g id=\"patch_3\">\n    <path clip-path=\"url(#pc11c025374)\" d=\"M 71.376136 279 \nL 122.103409 279 \nL 122.103409 230.028608 \nL 71.376136 230.028608 \nz\n\" style=\"fill:#1f77b4;\"/>\n   </g>\n   <g id=\"patch_4\">\n    <path clip-path=\"url(#pc11c025374)\" d=\"M 122.103409 279 \nL 172.830682 279 \nL 172.830682 279 \nL 122.103409 279 \nz\n\" style=\"fill:#1f77b4;\"/>\n   </g>\n   <g id=\"patch_5\">\n    <path clip-path=\"url(#pc11c025374)\" d=\"M 172.830682 279 \nL 223.557955 279 \nL 223.557955 180.930473 \nL 172.830682 180.930473 \nz\n\" style=\"fill:#1f77b4;\"/>\n   </g>\n   <g id=\"patch_6\">\n    <path clip-path=\"url(#pc11c025374)\" d=\"M 223.557955 279 \nL 274.285227 279 \nL 274.285227 279 \nL 223.557955 279 \nz\n\" style=\"fill:#1f77b4;\"/>\n   </g>\n   <g id=\"patch_7\">\n    <path clip-path=\"url(#pc11c025374)\" d=\"M 274.285227 279 \nL 325.0125 279 \nL 325.0125 279 \nL 274.285227 279 \nz\n\" style=\"fill:#1f77b4;\"/>\n   </g>\n   <g id=\"patch_8\">\n    <path clip-path=\"url(#pc11c025374)\" d=\"M 325.0125 279 \nL 375.739773 279 \nL 375.739773 20.142857 \nL 325.0125 20.142857 \nz\n\" style=\"fill:#1f77b4;\"/>\n   </g>\n   <g id=\"patch_9\">\n    <path clip-path=\"url(#pc11c025374)\" d=\"M 375.739773 279 \nL 426.467045 279 \nL 426.467045 279 \nL 375.739773 279 \nz\n\" style=\"fill:#1f77b4;\"/>\n   </g>\n   <g id=\"patch_10\">\n    <path clip-path=\"url(#pc11c025374)\" d=\"M 426.467045 279 \nL 477.194318 279 \nL 477.194318 179.087831 \nL 426.467045 179.087831 \nz\n\" style=\"fill:#1f77b4;\"/>\n   </g>\n   <g id=\"patch_11\">\n    <path clip-path=\"url(#pc11c025374)\" d=\"M 477.194318 279 \nL 527.921591 279 \nL 527.921591 279 \nL 477.194318 279 \nz\n\" style=\"fill:#1f77b4;\"/>\n   </g>\n   <g id=\"patch_12\">\n    <path clip-path=\"url(#pc11c025374)\" d=\"M 527.921591 279 \nL 578.648864 279 \nL 578.648864 210.656489 \nL 527.921591 210.656489 \nz\n\" style=\"fill:#1f77b4;\"/>\n   </g>\n   <g id=\"matplotlib.axis_1\">\n    <g id=\"xtick_1\">\n     <g id=\"line2d_1\">\n      <defs>\n       <path d=\"M 0 0 \nL 0 3.5 \n\" id=\"mc6d5f1ee46\" style=\"stroke:#000000;stroke-width:0.8;\"/>\n      </defs>\n      <g>\n       <use style=\"stroke:#000000;stroke-width:0.8;\" x=\"71.376136\" xlink:href=\"#mc6d5f1ee46\" y=\"279\"/>\n      </g>\n     </g>\n     <g id=\"text_1\">\n      <!-- −2.0 -->\n      <defs>\n       <path d=\"M 10.59375 35.5 \nL 73.1875 35.5 \nL 73.1875 27.203125 \nL 10.59375 27.203125 \nz\n\" id=\"DejaVuSans-8722\"/>\n       <path d=\"M 19.1875 8.296875 \nL 53.609375 8.296875 \nL 53.609375 0 \nL 7.328125 0 \nL 7.328125 8.296875 \nQ 12.9375 14.109375 22.625 23.890625 \nQ 32.328125 33.6875 34.8125 36.53125 \nQ 39.546875 41.84375 41.421875 45.53125 \nQ 43.3125 49.21875 43.3125 52.78125 \nQ 43.3125 58.59375 39.234375 62.25 \nQ 35.15625 65.921875 28.609375 65.921875 \nQ 23.96875 65.921875 18.8125 64.3125 \nQ 13.671875 62.703125 7.8125 59.421875 \nL 7.8125 69.390625 \nQ 13.765625 71.78125 18.9375 73 \nQ 24.125 74.21875 28.421875 74.21875 \nQ 39.75 74.21875 46.484375 68.546875 \nQ 53.21875 62.890625 53.21875 53.421875 \nQ 53.21875 48.921875 51.53125 44.890625 \nQ 49.859375 40.875 45.40625 35.40625 \nQ 44.1875 33.984375 37.640625 27.21875 \nQ 31.109375 20.453125 19.1875 8.296875 \nz\n\" id=\"DejaVuSans-50\"/>\n       <path d=\"M 10.6875 12.40625 \nL 21 12.40625 \nL 21 0 \nL 10.6875 0 \nz\n\" id=\"DejaVuSans-46\"/>\n       <path d=\"M 31.78125 66.40625 \nQ 24.171875 66.40625 20.328125 58.90625 \nQ 16.5 51.421875 16.5 36.375 \nQ 16.5 21.390625 20.328125 13.890625 \nQ 24.171875 6.390625 31.78125 6.390625 \nQ 39.453125 6.390625 43.28125 13.890625 \nQ 47.125 21.390625 47.125 36.375 \nQ 47.125 51.421875 43.28125 58.90625 \nQ 39.453125 66.40625 31.78125 66.40625 \nz\nM 31.78125 74.21875 \nQ 44.046875 74.21875 50.515625 64.515625 \nQ 56.984375 54.828125 56.984375 36.375 \nQ 56.984375 17.96875 50.515625 8.265625 \nQ 44.046875 -1.421875 31.78125 -1.421875 \nQ 19.53125 -1.421875 13.0625 8.265625 \nQ 6.59375 17.96875 6.59375 36.375 \nQ 6.59375 54.828125 13.0625 64.515625 \nQ 19.53125 74.21875 31.78125 74.21875 \nz\n\" id=\"DejaVuSans-48\"/>\n      </defs>\n      <g transform=\"translate(59.23473 293.598437)scale(0.1 -0.1)\">\n       <use xlink:href=\"#DejaVuSans-8722\"/>\n       <use x=\"83.789062\" xlink:href=\"#DejaVuSans-50\"/>\n       <use x=\"147.412109\" xlink:href=\"#DejaVuSans-46\"/>\n       <use x=\"179.199219\" xlink:href=\"#DejaVuSans-48\"/>\n      </g>\n     </g>\n    </g>\n    <g id=\"xtick_2\">\n     <g id=\"line2d_2\">\n      <g>\n       <use style=\"stroke:#000000;stroke-width:0.8;\" x=\"134.785227\" xlink:href=\"#mc6d5f1ee46\" y=\"279\"/>\n      </g>\n     </g>\n     <g id=\"text_2\">\n      <!-- −1.5 -->\n      <defs>\n       <path d=\"M 12.40625 8.296875 \nL 28.515625 8.296875 \nL 28.515625 63.921875 \nL 10.984375 60.40625 \nL 10.984375 69.390625 \nL 28.421875 72.90625 \nL 38.28125 72.90625 \nL 38.28125 8.296875 \nL 54.390625 8.296875 \nL 54.390625 0 \nL 12.40625 0 \nz\n\" id=\"DejaVuSans-49\"/>\n       <path d=\"M 10.796875 72.90625 \nL 49.515625 72.90625 \nL 49.515625 64.59375 \nL 19.828125 64.59375 \nL 19.828125 46.734375 \nQ 21.96875 47.46875 24.109375 47.828125 \nQ 26.265625 48.1875 28.421875 48.1875 \nQ 40.625 48.1875 47.75 41.5 \nQ 54.890625 34.8125 54.890625 23.390625 \nQ 54.890625 11.625 47.5625 5.09375 \nQ 40.234375 -1.421875 26.90625 -1.421875 \nQ 22.3125 -1.421875 17.546875 -0.640625 \nQ 12.796875 0.140625 7.71875 1.703125 \nL 7.71875 11.625 \nQ 12.109375 9.234375 16.796875 8.0625 \nQ 21.484375 6.890625 26.703125 6.890625 \nQ 35.15625 6.890625 40.078125 11.328125 \nQ 45.015625 15.765625 45.015625 23.390625 \nQ 45.015625 31 40.078125 35.4375 \nQ 35.15625 39.890625 26.703125 39.890625 \nQ 22.75 39.890625 18.8125 39.015625 \nQ 14.890625 38.140625 10.796875 36.28125 \nz\n\" id=\"DejaVuSans-53\"/>\n      </defs>\n      <g transform=\"translate(122.643821 293.598437)scale(0.1 -0.1)\">\n       <use xlink:href=\"#DejaVuSans-8722\"/>\n       <use x=\"83.789062\" xlink:href=\"#DejaVuSans-49\"/>\n       <use x=\"147.412109\" xlink:href=\"#DejaVuSans-46\"/>\n       <use x=\"179.199219\" xlink:href=\"#DejaVuSans-53\"/>\n      </g>\n     </g>\n    </g>\n    <g id=\"xtick_3\">\n     <g id=\"line2d_3\">\n      <g>\n       <use style=\"stroke:#000000;stroke-width:0.8;\" x=\"198.194318\" xlink:href=\"#mc6d5f1ee46\" y=\"279\"/>\n      </g>\n     </g>\n     <g id=\"text_3\">\n      <!-- −1.0 -->\n      <g transform=\"translate(186.052912 293.598437)scale(0.1 -0.1)\">\n       <use xlink:href=\"#DejaVuSans-8722\"/>\n       <use x=\"83.789062\" xlink:href=\"#DejaVuSans-49\"/>\n       <use x=\"147.412109\" xlink:href=\"#DejaVuSans-46\"/>\n       <use x=\"179.199219\" xlink:href=\"#DejaVuSans-48\"/>\n      </g>\n     </g>\n    </g>\n    <g id=\"xtick_4\">\n     <g id=\"line2d_4\">\n      <g>\n       <use style=\"stroke:#000000;stroke-width:0.8;\" x=\"261.603409\" xlink:href=\"#mc6d5f1ee46\" y=\"279\"/>\n      </g>\n     </g>\n     <g id=\"text_4\">\n      <!-- −0.5 -->\n      <g transform=\"translate(249.462003 293.598437)scale(0.1 -0.1)\">\n       <use xlink:href=\"#DejaVuSans-8722\"/>\n       <use x=\"83.789062\" xlink:href=\"#DejaVuSans-48\"/>\n       <use x=\"147.412109\" xlink:href=\"#DejaVuSans-46\"/>\n       <use x=\"179.199219\" xlink:href=\"#DejaVuSans-53\"/>\n      </g>\n     </g>\n    </g>\n    <g id=\"xtick_5\">\n     <g id=\"line2d_5\">\n      <g>\n       <use style=\"stroke:#000000;stroke-width:0.8;\" x=\"325.0125\" xlink:href=\"#mc6d5f1ee46\" y=\"279\"/>\n      </g>\n     </g>\n     <g id=\"text_5\">\n      <!-- 0.0 -->\n      <g transform=\"translate(317.060937 293.598437)scale(0.1 -0.1)\">\n       <use xlink:href=\"#DejaVuSans-48\"/>\n       <use x=\"63.623047\" xlink:href=\"#DejaVuSans-46\"/>\n       <use x=\"95.410156\" xlink:href=\"#DejaVuSans-48\"/>\n      </g>\n     </g>\n    </g>\n    <g id=\"xtick_6\">\n     <g id=\"line2d_6\">\n      <g>\n       <use style=\"stroke:#000000;stroke-width:0.8;\" x=\"388.421591\" xlink:href=\"#mc6d5f1ee46\" y=\"279\"/>\n      </g>\n     </g>\n     <g id=\"text_6\">\n      <!-- 0.5 -->\n      <g transform=\"translate(380.470028 293.598437)scale(0.1 -0.1)\">\n       <use xlink:href=\"#DejaVuSans-48\"/>\n       <use x=\"63.623047\" xlink:href=\"#DejaVuSans-46\"/>\n       <use x=\"95.410156\" xlink:href=\"#DejaVuSans-53\"/>\n      </g>\n     </g>\n    </g>\n    <g id=\"xtick_7\">\n     <g id=\"line2d_7\">\n      <g>\n       <use style=\"stroke:#000000;stroke-width:0.8;\" x=\"451.830682\" xlink:href=\"#mc6d5f1ee46\" y=\"279\"/>\n      </g>\n     </g>\n     <g id=\"text_7\">\n      <!-- 1.0 -->\n      <g transform=\"translate(443.879119 293.598437)scale(0.1 -0.1)\">\n       <use xlink:href=\"#DejaVuSans-49\"/>\n       <use x=\"63.623047\" xlink:href=\"#DejaVuSans-46\"/>\n       <use x=\"95.410156\" xlink:href=\"#DejaVuSans-48\"/>\n      </g>\n     </g>\n    </g>\n    <g id=\"xtick_8\">\n     <g id=\"line2d_8\">\n      <g>\n       <use style=\"stroke:#000000;stroke-width:0.8;\" x=\"515.239773\" xlink:href=\"#mc6d5f1ee46\" y=\"279\"/>\n      </g>\n     </g>\n     <g id=\"text_8\">\n      <!-- 1.5 -->\n      <g transform=\"translate(507.28821 293.598437)scale(0.1 -0.1)\">\n       <use xlink:href=\"#DejaVuSans-49\"/>\n       <use x=\"63.623047\" xlink:href=\"#DejaVuSans-46\"/>\n       <use x=\"95.410156\" xlink:href=\"#DejaVuSans-53\"/>\n      </g>\n     </g>\n    </g>\n    <g id=\"xtick_9\">\n     <g id=\"line2d_9\">\n      <g>\n       <use style=\"stroke:#000000;stroke-width:0.8;\" x=\"578.648864\" xlink:href=\"#mc6d5f1ee46\" y=\"279\"/>\n      </g>\n     </g>\n     <g id=\"text_9\">\n      <!-- 2.0 -->\n      <g transform=\"translate(570.697301 293.598437)scale(0.1 -0.1)\">\n       <use xlink:href=\"#DejaVuSans-50\"/>\n       <use x=\"63.623047\" xlink:href=\"#DejaVuSans-46\"/>\n       <use x=\"95.410156\" xlink:href=\"#DejaVuSans-48\"/>\n      </g>\n     </g>\n    </g>\n   </g>\n   <g id=\"matplotlib.axis_2\">\n    <g id=\"ytick_1\">\n     <g id=\"line2d_10\">\n      <defs>\n       <path d=\"M 0 0 \nL -3.5 0 \n\" id=\"m7f680558d6\" style=\"stroke:#000000;stroke-width:0.8;\"/>\n      </defs>\n      <g>\n       <use style=\"stroke:#000000;stroke-width:0.8;\" x=\"46.0125\" xlink:href=\"#m7f680558d6\" y=\"279\"/>\n      </g>\n     </g>\n     <g id=\"text_10\">\n      <!-- 0 -->\n      <g transform=\"translate(32.65 282.799219)scale(0.1 -0.1)\">\n       <use xlink:href=\"#DejaVuSans-48\"/>\n      </g>\n     </g>\n    </g>\n    <g id=\"ytick_2\">\n     <g id=\"line2d_11\">\n      <g>\n       <use style=\"stroke:#000000;stroke-width:0.8;\" x=\"46.0125\" xlink:href=\"#m7f680558d6\" y=\"230.252845\"/>\n      </g>\n     </g>\n     <g id=\"text_11\">\n      <!-- 5000 -->\n      <g transform=\"translate(13.5625 234.052064)scale(0.1 -0.1)\">\n       <use xlink:href=\"#DejaVuSans-53\"/>\n       <use x=\"63.623047\" xlink:href=\"#DejaVuSans-48\"/>\n       <use x=\"127.246094\" xlink:href=\"#DejaVuSans-48\"/>\n       <use x=\"190.869141\" xlink:href=\"#DejaVuSans-48\"/>\n      </g>\n     </g>\n    </g>\n    <g id=\"ytick_3\">\n     <g id=\"line2d_12\">\n      <g>\n       <use style=\"stroke:#000000;stroke-width:0.8;\" x=\"46.0125\" xlink:href=\"#m7f680558d6\" y=\"181.50569\"/>\n      </g>\n     </g>\n     <g id=\"text_12\">\n      <!-- 10000 -->\n      <g transform=\"translate(7.2 185.304909)scale(0.1 -0.1)\">\n       <use xlink:href=\"#DejaVuSans-49\"/>\n       <use x=\"63.623047\" xlink:href=\"#DejaVuSans-48\"/>\n       <use x=\"127.246094\" xlink:href=\"#DejaVuSans-48\"/>\n       <use x=\"190.869141\" xlink:href=\"#DejaVuSans-48\"/>\n       <use x=\"254.492188\" xlink:href=\"#DejaVuSans-48\"/>\n      </g>\n     </g>\n    </g>\n    <g id=\"ytick_4\">\n     <g id=\"line2d_13\">\n      <g>\n       <use style=\"stroke:#000000;stroke-width:0.8;\" x=\"46.0125\" xlink:href=\"#m7f680558d6\" y=\"132.758535\"/>\n      </g>\n     </g>\n     <g id=\"text_13\">\n      <!-- 15000 -->\n      <g transform=\"translate(7.2 136.557754)scale(0.1 -0.1)\">\n       <use xlink:href=\"#DejaVuSans-49\"/>\n       <use x=\"63.623047\" xlink:href=\"#DejaVuSans-53\"/>\n       <use x=\"127.246094\" xlink:href=\"#DejaVuSans-48\"/>\n       <use x=\"190.869141\" xlink:href=\"#DejaVuSans-48\"/>\n       <use x=\"254.492188\" xlink:href=\"#DejaVuSans-48\"/>\n      </g>\n     </g>\n    </g>\n    <g id=\"ytick_5\">\n     <g id=\"line2d_14\">\n      <g>\n       <use style=\"stroke:#000000;stroke-width:0.8;\" x=\"46.0125\" xlink:href=\"#m7f680558d6\" y=\"84.01138\"/>\n      </g>\n     </g>\n     <g id=\"text_14\">\n      <!-- 20000 -->\n      <g transform=\"translate(7.2 87.810598)scale(0.1 -0.1)\">\n       <use xlink:href=\"#DejaVuSans-50\"/>\n       <use x=\"63.623047\" xlink:href=\"#DejaVuSans-48\"/>\n       <use x=\"127.246094\" xlink:href=\"#DejaVuSans-48\"/>\n       <use x=\"190.869141\" xlink:href=\"#DejaVuSans-48\"/>\n       <use x=\"254.492188\" xlink:href=\"#DejaVuSans-48\"/>\n      </g>\n     </g>\n    </g>\n    <g id=\"ytick_6\">\n     <g id=\"line2d_15\">\n      <g>\n       <use style=\"stroke:#000000;stroke-width:0.8;\" x=\"46.0125\" xlink:href=\"#m7f680558d6\" y=\"35.264225\"/>\n      </g>\n     </g>\n     <g id=\"text_15\">\n      <!-- 25000 -->\n      <g transform=\"translate(7.2 39.063443)scale(0.1 -0.1)\">\n       <use xlink:href=\"#DejaVuSans-50\"/>\n       <use x=\"63.623047\" xlink:href=\"#DejaVuSans-53\"/>\n       <use x=\"127.246094\" xlink:href=\"#DejaVuSans-48\"/>\n       <use x=\"190.869141\" xlink:href=\"#DejaVuSans-48\"/>\n       <use x=\"254.492188\" xlink:href=\"#DejaVuSans-48\"/>\n      </g>\n     </g>\n    </g>\n   </g>\n   <g id=\"patch_13\">\n    <path d=\"M 46.0125 279 \nL 46.0125 7.2 \n\" style=\"fill:none;stroke:#000000;stroke-linecap:square;stroke-linejoin:miter;stroke-width:0.8;\"/>\n   </g>\n   <g id=\"patch_14\">\n    <path d=\"M 604.0125 279 \nL 604.0125 7.2 \n\" style=\"fill:none;stroke:#000000;stroke-linecap:square;stroke-linejoin:miter;stroke-width:0.8;\"/>\n   </g>\n   <g id=\"patch_15\">\n    <path d=\"M 46.0125 279 \nL 604.0125 279 \n\" style=\"fill:none;stroke:#000000;stroke-linecap:square;stroke-linejoin:miter;stroke-width:0.8;\"/>\n   </g>\n   <g id=\"patch_16\">\n    <path d=\"M 46.0125 7.2 \nL 604.0125 7.2 \n\" style=\"fill:none;stroke:#000000;stroke-linecap:square;stroke-linejoin:miter;stroke-width:0.8;\"/>\n   </g>\n  </g>\n </g>\n <defs>\n  <clipPath id=\"pc11c025374\">\n   <rect height=\"271.8\" width=\"558\" x=\"46.0125\" y=\"7.2\"/>\n  </clipPath>\n </defs>\n</svg>\n",
      "image/png": "[encoded data removed]"
     },
     "metadata": {
      "needs_background": "light"
     }
    }
   ],
   "source": [
    "plt.figure(figsize=(10, 5))\n",
    "plt.hist(df['Thermal sensation'])"
   ]
  },
  {
   "cell_type": "code",
   "execution_count": 7,
   "metadata": {},
   "outputs": [
    {
     "output_type": "execute_result",
     "data": {
      "text/plain": "0.20521645497747687"
     },
     "metadata": {},
     "execution_count": 7
    }
   ],
   "source": [
    "# Vanilla RandomForestClassifier\n",
    "X = df.drop('Thermal sensation', axis=1)\n",
    "y = df['Thermal sensation']\n",
    "X_train, X_test, y_train, y_test = train_test_split(X, y, test_size=0.33, random_state=42)\n",
    "regr = RandomForestClassifier(max_depth=None, random_state=42).fit(X_train, y_train)\n",
    "y_pred = regr.predict(X_test)\n",
    "matthews_corrcoef(y_test, y_pred)"
   ]
  },
  {
   "cell_type": "code",
   "execution_count": 8,
   "metadata": {},
   "outputs": [
    {
     "output_type": "execute_result",
     "data": {
      "text/plain": "0.5803516439715376"
     },
     "metadata": {},
     "execution_count": 8
    }
   ],
   "source": [
    "# Vanilla SMOTE Resampled RandomForestClassifier\n",
    "X = df.drop('Thermal sensation', axis=1)\n",
    "y = df['Thermal sensation']\n",
    "oversample = SMOTE()\n",
    "X, y = oversample.fit_resample(X, y)\n",
    "X_train, X_test, y_train, y_test = train_test_split(X, y, test_size=0.33, random_state=42)\n",
    "regr = RandomForestClassifier(max_depth=None, random_state=42, n_jobs=-1, max_features=7, n_estimators=500).fit(X_train, y_train)\n",
    "y_pred = regr.predict(X_test)\n",
    "matthews_corrcoef(y_test, y_pred)"
   ]
  },
  {
   "cell_type": "code",
   "execution_count": 9,
   "metadata": {},
   "outputs": [
    {
     "output_type": "execute_result",
     "data": {
      "text/plain": "0.36712897549262935"
     },
     "metadata": {},
     "execution_count": 9
    }
   ],
   "source": [
    "# SMOTE Resampled RandomForestClassifier with undersampling\n",
    "X = df.drop('Thermal sensation', axis=1)\n",
    "y = df['Thermal sensation']\n",
    "oversample = SMOTE(sampling_strategy={-0.0: 26551, -2.0: 11000, 1.0: 11000, -1.0: 11000, 2.0: 11000})\n",
    "undersample = RandomUnderSampler(sampling_strategy={-0.0: 11000, -2.0: 11000, 1.0: 11000, -1.0: 11000, 2.0: 11000})\n",
    "X, y = oversample.fit_resample(X, y)\n",
    "X, y = undersample.fit_resample(X, y)\n",
    "X_train, X_test, y_train, y_test = train_test_split(X, y, test_size=0.33, random_state=42)\n",
    "regr = RandomForestClassifier(max_depth=None, random_state=42, n_jobs=-1, max_features=7, n_estimators=300).fit(X_train, y_train)\n",
    "y_pred = regr.predict(X_test)\n",
    "matthews_corrcoef(y_test, y_pred)"
   ]
  },
  {
   "cell_type": "code",
   "execution_count": 10,
   "metadata": {},
   "outputs": [],
   "source": [
    "# Vanilla SMOTE is better? Wierd "
   ]
  },
  {
   "cell_type": "code",
   "execution_count": 6,
   "metadata": {},
   "outputs": [
    {
     "output_type": "execute_result",
     "data": {
      "text/plain": "0.5994446735161193"
     },
     "metadata": {},
     "execution_count": 6
    }
   ],
   "source": [
    "# Borderline-SMOTE\n",
    "X = df.drop('Thermal sensation', axis=1)\n",
    "y = df['Thermal sensation']\n",
    "oversample = BorderlineSMOTE()\n",
    "X, y = oversample.fit_resample(X, y)\n",
    "X_train, X_test, y_train, y_test = train_test_split(X, y, test_size=0.33, random_state=42)\n",
    "regr = RandomForestClassifier(max_depth=None, random_state=42, n_jobs=-1, max_features=7, n_estimators=300).fit(X_train, y_train)\n",
    "y_pred = regr.predict(X_test)\n",
    "matthews_corrcoef(y_test, y_pred)"
   ]
  },
  {
   "cell_type": "code",
   "execution_count": 23,
   "metadata": {},
   "outputs": [],
   "source": [
    "# Borderline-SMOTE SVM\n",
    "X = df.drop('Thermal sensation', axis=1)\n",
    "y = df['Thermal sensation']\n",
    "oversample = SVMSMOTE()\n",
    "X, y = oversample.fit_resample(X, y)\n",
    "X_train, X_test, y_train, y_test = train_test_split(X, y, test_size=0.33, random_state=42)\n",
    "regr = RandomForestClassifier(max_depth=None, random_state=42, n_jobs=-1, max_features=7, n_estimators=300).fit(X_train, y_train)\n",
    "y_pred = regr.predict(X_test)\n",
    "matthews_corrcoef(y_test, y_pred)"
   ]
  },
  {
   "cell_type": "code",
   "execution_count": 13,
   "metadata": {},
   "outputs": [
    {
     "output_type": "execute_result",
     "data": {
      "text/plain": "0.5482739642472262"
     },
     "metadata": {},
     "execution_count": 13
    }
   ],
   "source": [
    "# ADASYN\n",
    "X = df.drop('Thermal sensation', axis=1)\n",
    "y = df['Thermal sensation']\n",
    "oversample = ADASYN()\n",
    "X, y = oversample.fit_resample(X, y)\n",
    "X_train, X_test, y_train, y_test = train_test_split(X, y, test_size=0.33, random_state=42)\n",
    "regr = RandomForestClassifier(max_depth=None, random_state=42, n_jobs=-1, max_features=7, n_estimators=300).fit(X_train, y_train)\n",
    "y_pred = regr.predict(X_test)\n",
    "matthews_corrcoef(y_test, y_pred)"
   ]
  },
  {
   "cell_type": "code",
   "execution_count": 29,
   "metadata": {},
   "outputs": [
    {
     "output_type": "execute_result",
     "data": {
      "text/plain": "0.5526434799307772"
     },
     "metadata": {},
     "execution_count": 29
    }
   ],
   "source": [
    "# ADASYN with outliers removed\n",
    "df_o = df[(np.abs(zscore(df)) < 3).all(axis=1)]\n",
    "X = df_o.drop('Thermal sensation', axis=1)\n",
    "y = df_o['Thermal sensation']\n",
    "oversample = ADASYN()\n",
    "X, y = oversample.fit_resample(X, y)\n",
    "X_train, X_test, y_train, y_test = train_test_split(X, y, test_size=0.33, random_state=42)\n",
    "regr = RandomForestClassifier(max_depth=None, random_state=42, n_jobs=-1, max_features=7, n_estimators=300).fit(X_train, y_train)\n",
    "y_pred = regr.predict(X_test)\n",
    "matthews_corrcoef(y_test, y_pred)"
   ]
  },
  {
   "cell_type": "code",
   "execution_count": 42,
   "metadata": {},
   "outputs": [
    {
     "output_type": "execute_result",
     "data": {
      "text/plain": "        Age  Thermal sensation  PMV  Air temperature (¡C)  \\\n34     26.0                0.0 -0.3                  26.4   \n89     38.0                2.0  0.1                  26.0   \n387    32.0                2.0  2.3                  31.6   \n388    32.0                2.0  2.3                  31.6   \n389    32.0                2.0  2.2                  31.6   \n...     ...                ...  ...                   ...   \n58824  17.0               -1.0  0.1                  23.8   \n58825  16.0                0.0  0.1                  23.8   \n58826  16.0               -1.0  0.1                  23.8   \n58827  15.0                0.0  0.1                  23.8   \n58828  17.0                2.0  0.1                  23.8   \n\n       Air temperature (¡F)  Radiant temperature (¡C)  \\\n34                     79.5                      23.6   \n89                     78.8                      23.6   \n387                    88.9                      23.6   \n388                    88.9                      23.6   \n389                    88.9                      23.6   \n...                     ...                       ...   \n58824                  74.9                      23.6   \n58825                  74.9                      23.6   \n58826                  74.9                      23.6   \n58827                  74.9                      23.6   \n58828                  74.9                      23.6   \n\n       Radiant temperature (¡F)  Globe temperature (¡C)  \\\n34                         74.4                    25.5   \n89                         74.4                    25.9   \n387                        74.4                    23.3   \n388                        74.4                    23.3   \n389                        74.4                    23.3   \n...                         ...                     ...   \n58824                      74.4                    20.9   \n58825                      74.4                    20.9   \n58826                      74.4                    20.9   \n58827                      74.4                    20.9   \n58828                      74.4                    20.9   \n\n       Globe temperature (¡F)  Relative humidity (%)  ...  Velocity_l (m/s)  \\\n34                       78.0                   31.7  ...              0.08   \n89                       78.7                   53.4  ...              0.08   \n387                      73.9                   66.0  ...              0.08   \n388                      73.9                   66.0  ...              0.08   \n389                      73.9                   66.0  ...              0.08   \n...                       ...                    ...  ...               ...   \n58824                    69.6                   64.0  ...              0.08   \n58825                    69.6                   64.0  ...              0.08   \n58826                    69.6                   64.0  ...              0.08   \n58827                    69.6                   64.0  ...              0.08   \n58828                    69.6                   64.0  ...              0.08   \n\n       Velocity_l (fpm)  Outdoor monthly air temperature (¡C)  \\\n34                16.54                                  32.8   \n89                16.54                                  32.8   \n387               16.54                                  30.4   \n388               16.54                                  30.4   \n389               16.54                                  30.4   \n...                 ...                                   ...   \n58824             16.54                                  18.6   \n58825             16.54                                  18.6   \n58826             16.54                                  18.6   \n58827             16.54                                  18.6   \n58828             16.54                                  18.6   \n\n       Outdoor monthly air temperature (¡F)  Season_Autumn  Season_Spring  \\\n34                                    91.00              0              0   \n89                                    91.00              0              0   \n387                                   86.70              0              1   \n388                                   86.70              0              1   \n389                                   86.70              0              1   \n...                                     ...            ...            ...   \n58824                                 65.45              0              0   \n58825                                 65.45              0              0   \n58826                                 65.45              0              0   \n58827                                 65.45              0              0   \n58828                                 65.45              0              0   \n\n       Season_Summer  Season_Winter  Sex_Female  Sex_Male  \n34                 1              0           0         0  \n89                 1              0           0         0  \n387                0              0           0         1  \n388                0              0           0         1  \n389                0              0           0         1  \n...              ...            ...         ...       ...  \n58824              0              1           0         1  \n58825              0              1           0         1  \n58826              0              1           1         0  \n58827              0              1           1         0  \n58828              0              1           0         1  \n\n[7939 rows x 27 columns]",
      "text/html": "<div>\n<style scoped>\n    .dataframe tbody tr th:only-of-type {\n        vertical-align: middle;\n    }\n\n    .dataframe tbody tr th {\n        vertical-align: top;\n    }\n\n    .dataframe thead th {\n        text-align: right;\n    }\n</style>\n<table border=\"1\" class=\"dataframe\">\n  <thead>\n    <tr style=\"text-align: right;\">\n      <th></th>\n      <th>Age</th>\n      <th>Thermal sensation</th>\n      <th>PMV</th>\n      <th>Air temperature (¡C)</th>\n      <th>Air temperature (¡F)</th>\n      <th>Radiant temperature (¡C)</th>\n      <th>Radiant temperature (¡F)</th>\n      <th>Globe temperature (¡C)</th>\n      <th>Globe temperature (¡F)</th>\n      <th>Relative humidity (%)</th>\n      <th>...</th>\n      <th>Velocity_l (m/s)</th>\n      <th>Velocity_l (fpm)</th>\n      <th>Outdoor monthly air temperature (¡C)</th>\n      <th>Outdoor monthly air temperature (¡F)</th>\n      <th>Season_Autumn</th>\n      <th>Season_Spring</th>\n      <th>Season_Summer</th>\n      <th>Season_Winter</th>\n      <th>Sex_Female</th>\n      <th>Sex_Male</th>\n    </tr>\n  </thead>\n  <tbody>\n    <tr>\n      <th>34</th>\n      <td>26.0</td>\n      <td>0.0</td>\n      <td>-0.3</td>\n      <td>26.4</td>\n      <td>79.5</td>\n      <td>23.6</td>\n      <td>74.4</td>\n      <td>25.5</td>\n      <td>78.0</td>\n      <td>31.7</td>\n      <td>...</td>\n      <td>0.08</td>\n      <td>16.54</td>\n      <td>32.8</td>\n      <td>91.00</td>\n      <td>0</td>\n      <td>0</td>\n      <td>1</td>\n      <td>0</td>\n      <td>0</td>\n      <td>0</td>\n    </tr>\n    <tr>\n      <th>89</th>\n      <td>38.0</td>\n      <td>2.0</td>\n      <td>0.1</td>\n      <td>26.0</td>\n      <td>78.8</td>\n      <td>23.6</td>\n      <td>74.4</td>\n      <td>25.9</td>\n      <td>78.7</td>\n      <td>53.4</td>\n      <td>...</td>\n      <td>0.08</td>\n      <td>16.54</td>\n      <td>32.8</td>\n      <td>91.00</td>\n      <td>0</td>\n      <td>0</td>\n      <td>1</td>\n      <td>0</td>\n      <td>0</td>\n      <td>0</td>\n    </tr>\n    <tr>\n      <th>387</th>\n      <td>32.0</td>\n      <td>2.0</td>\n      <td>2.3</td>\n      <td>31.6</td>\n      <td>88.9</td>\n      <td>23.6</td>\n      <td>74.4</td>\n      <td>23.3</td>\n      <td>73.9</td>\n      <td>66.0</td>\n      <td>...</td>\n      <td>0.08</td>\n      <td>16.54</td>\n      <td>30.4</td>\n      <td>86.70</td>\n      <td>0</td>\n      <td>1</td>\n      <td>0</td>\n      <td>0</td>\n      <td>0</td>\n      <td>1</td>\n    </tr>\n    <tr>\n      <th>388</th>\n      <td>32.0</td>\n      <td>2.0</td>\n      <td>2.3</td>\n      <td>31.6</td>\n      <td>88.9</td>\n      <td>23.6</td>\n      <td>74.4</td>\n      <td>23.3</td>\n      <td>73.9</td>\n      <td>66.0</td>\n      <td>...</td>\n      <td>0.08</td>\n      <td>16.54</td>\n      <td>30.4</td>\n      <td>86.70</td>\n      <td>0</td>\n      <td>1</td>\n      <td>0</td>\n      <td>0</td>\n      <td>0</td>\n      <td>1</td>\n    </tr>\n    <tr>\n      <th>389</th>\n      <td>32.0</td>\n      <td>2.0</td>\n      <td>2.2</td>\n      <td>31.6</td>\n      <td>88.9</td>\n      <td>23.6</td>\n      <td>74.4</td>\n      <td>23.3</td>\n      <td>73.9</td>\n      <td>66.0</td>\n      <td>...</td>\n      <td>0.08</td>\n      <td>16.54</td>\n      <td>30.4</td>\n      <td>86.70</td>\n      <td>0</td>\n      <td>1</td>\n      <td>0</td>\n      <td>0</td>\n      <td>0</td>\n      <td>1</td>\n    </tr>\n    <tr>\n      <th>...</th>\n      <td>...</td>\n      <td>...</td>\n      <td>...</td>\n      <td>...</td>\n      <td>...</td>\n      <td>...</td>\n      <td>...</td>\n      <td>...</td>\n      <td>...</td>\n      <td>...</td>\n      <td>...</td>\n      <td>...</td>\n      <td>...</td>\n      <td>...</td>\n      <td>...</td>\n      <td>...</td>\n      <td>...</td>\n      <td>...</td>\n      <td>...</td>\n      <td>...</td>\n      <td>...</td>\n    </tr>\n    <tr>\n      <th>58824</th>\n      <td>17.0</td>\n      <td>-1.0</td>\n      <td>0.1</td>\n      <td>23.8</td>\n      <td>74.9</td>\n      <td>23.6</td>\n      <td>74.4</td>\n      <td>20.9</td>\n      <td>69.6</td>\n      <td>64.0</td>\n      <td>...</td>\n      <td>0.08</td>\n      <td>16.54</td>\n      <td>18.6</td>\n      <td>65.45</td>\n      <td>0</td>\n      <td>0</td>\n      <td>0</td>\n      <td>1</td>\n      <td>0</td>\n      <td>1</td>\n    </tr>\n    <tr>\n      <th>58825</th>\n      <td>16.0</td>\n      <td>0.0</td>\n      <td>0.1</td>\n      <td>23.8</td>\n      <td>74.9</td>\n      <td>23.6</td>\n      <td>74.4</td>\n      <td>20.9</td>\n      <td>69.6</td>\n      <td>64.0</td>\n      <td>...</td>\n      <td>0.08</td>\n      <td>16.54</td>\n      <td>18.6</td>\n      <td>65.45</td>\n      <td>0</td>\n      <td>0</td>\n      <td>0</td>\n      <td>1</td>\n      <td>0</td>\n      <td>1</td>\n    </tr>\n    <tr>\n      <th>58826</th>\n      <td>16.0</td>\n      <td>-1.0</td>\n      <td>0.1</td>\n      <td>23.8</td>\n      <td>74.9</td>\n      <td>23.6</td>\n      <td>74.4</td>\n      <td>20.9</td>\n      <td>69.6</td>\n      <td>64.0</td>\n      <td>...</td>\n      <td>0.08</td>\n      <td>16.54</td>\n      <td>18.6</td>\n      <td>65.45</td>\n      <td>0</td>\n      <td>0</td>\n      <td>0</td>\n      <td>1</td>\n      <td>1</td>\n      <td>0</td>\n    </tr>\n    <tr>\n      <th>58827</th>\n      <td>15.0</td>\n      <td>0.0</td>\n      <td>0.1</td>\n      <td>23.8</td>\n      <td>74.9</td>\n      <td>23.6</td>\n      <td>74.4</td>\n      <td>20.9</td>\n      <td>69.6</td>\n      <td>64.0</td>\n      <td>...</td>\n      <td>0.08</td>\n      <td>16.54</td>\n      <td>18.6</td>\n      <td>65.45</td>\n      <td>0</td>\n      <td>0</td>\n      <td>0</td>\n      <td>1</td>\n      <td>1</td>\n      <td>0</td>\n    </tr>\n    <tr>\n      <th>58828</th>\n      <td>17.0</td>\n      <td>2.0</td>\n      <td>0.1</td>\n      <td>23.8</td>\n      <td>74.9</td>\n      <td>23.6</td>\n      <td>74.4</td>\n      <td>20.9</td>\n      <td>69.6</td>\n      <td>64.0</td>\n      <td>...</td>\n      <td>0.08</td>\n      <td>16.54</td>\n      <td>18.6</td>\n      <td>65.45</td>\n      <td>0</td>\n      <td>0</td>\n      <td>0</td>\n      <td>1</td>\n      <td>0</td>\n      <td>1</td>\n    </tr>\n  </tbody>\n</table>\n<p>7939 rows × 27 columns</p>\n</div>"
     },
     "metadata": {},
     "execution_count": 42
    }
   ],
   "source": [
    "df[(np.abs(zscore(df)) > 3).any(axis=1)] "
   ]
  },
  {
   "cell_type": "code",
   "execution_count": 43,
   "metadata": {},
   "outputs": [],
   "source": [
    "col = 'Age'"
   ]
  },
  {
   "cell_type": "code",
   "execution_count": 46,
   "metadata": {},
   "outputs": [
    {
     "output_type": "execute_result",
     "data": {
      "text/plain": "32.0"
     },
     "metadata": {},
     "execution_count": 46
    }
   ],
   "source": []
  },
  {
   "cell_type": "code",
   "execution_count": 100,
   "metadata": {},
   "outputs": [],
   "source": [
    "df_o = df.copy()"
   ]
  },
  {
   "cell_type": "code",
   "execution_count": 101,
   "metadata": {
    "tags": []
   },
   "outputs": [],
   "source": [
    "for col in df_o.columns:\n",
    "    mean = df_o[col].mean()\n",
    "    std = df_o[col].std()\n",
    "    median = df_o[col].median()\n",
    "\n",
    "    df_o[col] = np.where(np.logical_or(abs(df[col] - mean) > 3*std, abs(df[col] - mean) < -3*std), median, df_o[col])"
   ]
  },
  {
   "cell_type": "code",
   "execution_count": 102,
   "metadata": {},
   "outputs": [
    {
     "output_type": "execute_result",
     "data": {
      "text/plain": "58891"
     },
     "metadata": {},
     "execution_count": 102
    }
   ],
   "source": [
    "len(df_o)"
   ]
  },
  {
   "cell_type": "code",
   "execution_count": 103,
   "metadata": {},
   "outputs": [
    {
     "output_type": "execute_result",
     "data": {
      "text/plain": "0.5956206617823325"
     },
     "metadata": {},
     "execution_count": 103
    }
   ],
   "source": [
    "# Borderline-SMOTE with outliers replaced by median\n",
    "X = df_o.drop('Thermal sensation', axis=1)\n",
    "y = df_o['Thermal sensation']\n",
    "oversample = BorderlineSMOTE()\n",
    "X, y = oversample.fit_resample(X, y)\n",
    "X_train, X_test, y_train, y_test = train_test_split(X, y, test_size=0.33, random_state=42)\n",
    "regr = RandomForestClassifier(max_depth=None, random_state=42, n_jobs=-1, max_features=7, n_estimators=300).fit(X_train, y_train)\n",
    "y_pred = regr.predict(X_test)\n",
    "matthews_corrcoef(y_test, y_pred)"
   ]
  },
  {
   "cell_type": "code",
   "execution_count": 104,
   "metadata": {},
   "outputs": [],
   "source": [
    "# Seem to have reached the limit of RandomForests"
   ]
  },
  {
   "cell_type": "code",
   "execution_count": 9,
   "metadata": {},
   "outputs": [
    {
     "output_type": "execute_result",
     "data": {
      "text/plain": "0.2097517203885718"
     },
     "metadata": {},
     "execution_count": 9
    }
   ],
   "source": [
    "# XGBoost without SMOTE\n",
    "X = df.drop('Thermal sensation', axis=1)\n",
    "y = df['Thermal sensation']\n",
    "X_train, X_test, y_train, y_test = train_test_split(X, y, test_size=0.33, random_state=42)\n",
    "regr = XGBClassifier(random_state=42, n_jobs=-1).fit(X_train, y_train)\n",
    "y_pred = regr.predict(X_test)\n",
    "matthews_corrcoef(y_test, y_pred)"
   ]
  },
  {
   "cell_type": "code",
   "execution_count": 10,
   "metadata": {},
   "outputs": [
    {
     "output_type": "execute_result",
     "data": {
      "text/plain": "0.4417840607247703"
     },
     "metadata": {},
     "execution_count": 10
    }
   ],
   "source": [
    "# XGBoost with Borderline-SMOTE\n",
    "X = df.drop('Thermal sensation', axis=1)\n",
    "y = df['Thermal sensation']\n",
    "oversample = BorderlineSMOTE()\n",
    "X, y = oversample.fit_resample(X, y)\n",
    "X_train, X_test, y_train, y_test = train_test_split(X, y, test_size=0.33, random_state=42)\n",
    "regr = XGBClassifier(random_state=42, n_jobs=-1).fit(X_train, y_train)\n",
    "y_pred = regr.predict(X_test)\n",
    "matthews_corrcoef(y_test, y_pred)"
   ]
  },
  {
   "cell_type": "code",
   "execution_count": null,
   "metadata": {},
   "outputs": [],
   "source": []
  }
 ],
 "metadata": {
  "language_info": {
   "codemirror_mode": {
    "name": "ipython",
    "version": 3
   },
   "file_extension": ".py",
   "mimetype": "text/x-python",
   "name": "python",
   "nbconvert_exporter": "python",
   "pygments_lexer": "ipython3",
   "version": "3.7.7-final"
  },
  "orig_nbformat": 2,
  "kernelspec": {
   "name": "python_defaultSpec_1599501475597",
   "display_name": "Python 3.7.7 64-bit ('tf2': conda)"
  }
 },
 "nbformat": 4,
 "nbformat_minor": 2
}
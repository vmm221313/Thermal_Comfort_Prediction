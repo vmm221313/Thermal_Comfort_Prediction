{
 "cells": [
  {
   "cell_type": "code",
   "execution_count": 48,
   "metadata": {},
   "outputs": [],
   "source": [
    "import imblearn\n",
    "import numpy as np\n",
    "import pandas as po\n",
    "from collections import Counter\n",
    "import matplotlib.pyplot as plt\n",
    "from imblearn.over_sampling import SMOTE\n",
    "from pandas_profiling import ProfileReport\n",
    "from imblearn.under_sampling import RandomUnderSampler"
   ]
  },
  {
   "cell_type": "code",
   "execution_count": 45,
   "metadata": {},
   "outputs": [],
   "source": [
    "from sklearn.metrics import matthews_corrcoef\n",
    "from sklearn.ensemble import RandomForestClassifier\n",
    "from sklearn.model_selection import train_test_split"
   ]
  },
  {
   "cell_type": "code",
   "execution_count": 3,
   "metadata": {},
   "outputs": [
    {
     "output_type": "execute_result",
     "data": {
      "text/plain": "                                   Publication (Citation) Data contributor  \\\n0       Kwok, Alison G., and Chungyoon Chun. \"Thermal ...      Kwok Alison   \n1       Kwok, Alison G., and Chungyoon Chun. \"Thermal ...      Kwok Alison   \n2       Kwok, Alison G., and Chungyoon Chun. \"Thermal ...      Kwok Alison   \n3       Kwok, Alison G., and Chungyoon Chun. \"Thermal ...      Kwok Alison   \n4       Kwok, Alison G., and Chungyoon Chun. \"Thermal ...      Kwok Alison   \n...                                                   ...              ...   \n107578  Kwok, A.G. \"Thermal Comfort in Tropical Classr...      Alison Kwok   \n107579  Kwok, A.G. \"Thermal Comfort in Tropical Classr...      Alison Kwok   \n107580  Kwok, A.G. \"Thermal Comfort in Tropical Classr...      Alison Kwok   \n107581  Kwok, A.G. \"Thermal Comfort in Tropical Classr...      Alison Kwok   \n107582  Kwok, A.G. \"Thermal Comfort in Tropical Classr...      Alison Kwok   \n\n          Year  Season Koppen climate classification               Climate  \\\n0       2000.0  Summer                           Cfa     Humid subtropical   \n1       2000.0  Summer                           Cfa     Humid subtropical   \n2       2000.0  Summer                           Cfa     Humid subtropical   \n3       2000.0  Summer                           Cfa     Humid subtropical   \n4       2000.0  Summer                           Cfa     Humid subtropical   \n...        ...     ...                           ...                   ...   \n107578  1996.0  Winter                            As  Tropical dry savanna   \n107579  1996.0  Winter                            As  Tropical dry savanna   \n107580  1996.0  Winter                            As  Tropical dry savanna   \n107581  1996.0  Winter                            As  Tropical dry savanna   \n107582  1996.0  Winter                            As  Tropical dry savanna   \n\n            City Country Building type Cooling startegy_building level  ...  \\\n0          Tokyo   Japan     Classroom                 Air Conditioned  ...   \n1          Tokyo   Japan     Classroom                 Air Conditioned  ...   \n2          Tokyo   Japan     Classroom                 Air Conditioned  ...   \n3          Tokyo   Japan     Classroom                 Air Conditioned  ...   \n4          Tokyo   Japan     Classroom                 Air Conditioned  ...   \n...          ...     ...           ...                             ...  ...   \n107578  Honolulu     USA     Classroom                 Air Conditioned  ...   \n107579  Honolulu     USA     Classroom                 Air Conditioned  ...   \n107580  Honolulu     USA     Classroom                 Air Conditioned  ...   \n107581  Honolulu     USA     Classroom                 Air Conditioned  ...   \n107582  Honolulu     USA     Classroom                 Air Conditioned  ...   \n\n       Subject«s height (cm) Subject«s weight (kg)  Blind (curtain) Fan  \\\n0                      162.0                   NaN              NaN NaN   \n1                      154.0                   NaN              NaN NaN   \n2                      173.0                   NaN              NaN NaN   \n3                      167.0                   NaN              NaN NaN   \n4                      178.0                   NaN              NaN NaN   \n...                      ...                   ...              ...  ..   \n107578                   NaN                   NaN              NaN NaN   \n107579                   NaN                   NaN              NaN NaN   \n107580                   NaN                   NaN              NaN NaN   \n107581                   NaN                   NaN              NaN NaN   \n107582                   NaN                   NaN              NaN NaN   \n\n        Window  Door Heater  Outdoor monthly air temperature (¡C)  \\\n0          NaN   NaN    NaN                                  25.0   \n1          NaN   NaN    NaN                                  25.0   \n2          NaN   NaN    NaN                                  25.0   \n3          NaN   NaN    NaN                                  25.0   \n4          NaN   NaN    NaN                                  25.0   \n...        ...   ...    ...                                   ...   \n107578     NaN   NaN    NaN                                   NaN   \n107579     NaN   NaN    NaN                                   NaN   \n107580     NaN   NaN    NaN                                   NaN   \n107581     NaN   NaN    NaN                                   NaN   \n107582     NaN   NaN    NaN                                   NaN   \n\n       Outdoor monthly air temperature (¡F)    Database  \n0                                      77.0  Database 2  \n1                                      77.0  Database 2  \n2                                      77.0  Database 2  \n3                                      77.0  Database 2  \n4                                      77.0  Database 2  \n...                                     ...         ...  \n107578                                  NaN  Database 1  \n107579                                  NaN  Database 1  \n107580                                  NaN  Database 1  \n107581                                  NaN  Database 1  \n107582                                  NaN  Database 1  \n\n[107583 rows x 70 columns]",
      "text/html": "<div>\n<style scoped>\n    .dataframe tbody tr th:only-of-type {\n        vertical-align: middle;\n    }\n\n    .dataframe tbody tr th {\n        vertical-align: top;\n    }\n\n    .dataframe thead th {\n        text-align: right;\n    }\n</style>\n<table border=\"1\" class=\"dataframe\">\n  <thead>\n    <tr style=\"text-align: right;\">\n      <th></th>\n      <th>Publication (Citation)</th>\n      <th>Data contributor</th>\n      <th>Year</th>\n      <th>Season</th>\n      <th>Koppen climate classification</th>\n      <th>Climate</th>\n      <th>City</th>\n      <th>Country</th>\n      <th>Building type</th>\n      <th>Cooling startegy_building level</th>\n      <th>...</th>\n      <th>Subject«s height (cm)</th>\n      <th>Subject«s weight (kg)</th>\n      <th>Blind (curtain)</th>\n      <th>Fan</th>\n      <th>Window</th>\n      <th>Door</th>\n      <th>Heater</th>\n      <th>Outdoor monthly air temperature (¡C)</th>\n      <th>Outdoor monthly air temperature (¡F)</th>\n      <th>Database</th>\n    </tr>\n  </thead>\n  <tbody>\n    <tr>\n      <th>0</th>\n      <td>Kwok, Alison G., and Chungyoon Chun. \"Thermal ...</td>\n      <td>Kwok Alison</td>\n      <td>2000.0</td>\n      <td>Summer</td>\n      <td>Cfa</td>\n      <td>Humid subtropical</td>\n      <td>Tokyo</td>\n      <td>Japan</td>\n      <td>Classroom</td>\n      <td>Air Conditioned</td>\n      <td>...</td>\n      <td>162.0</td>\n      <td>NaN</td>\n      <td>NaN</td>\n      <td>NaN</td>\n      <td>NaN</td>\n      <td>NaN</td>\n      <td>NaN</td>\n      <td>25.0</td>\n      <td>77.0</td>\n      <td>Database 2</td>\n    </tr>\n    <tr>\n      <th>1</th>\n      <td>Kwok, Alison G., and Chungyoon Chun. \"Thermal ...</td>\n      <td>Kwok Alison</td>\n      <td>2000.0</td>\n      <td>Summer</td>\n      <td>Cfa</td>\n      <td>Humid subtropical</td>\n      <td>Tokyo</td>\n      <td>Japan</td>\n      <td>Classroom</td>\n      <td>Air Conditioned</td>\n      <td>...</td>\n      <td>154.0</td>\n      <td>NaN</td>\n      <td>NaN</td>\n      <td>NaN</td>\n      <td>NaN</td>\n      <td>NaN</td>\n      <td>NaN</td>\n      <td>25.0</td>\n      <td>77.0</td>\n      <td>Database 2</td>\n    </tr>\n    <tr>\n      <th>2</th>\n      <td>Kwok, Alison G., and Chungyoon Chun. \"Thermal ...</td>\n      <td>Kwok Alison</td>\n      <td>2000.0</td>\n      <td>Summer</td>\n      <td>Cfa</td>\n      <td>Humid subtropical</td>\n      <td>Tokyo</td>\n      <td>Japan</td>\n      <td>Classroom</td>\n      <td>Air Conditioned</td>\n      <td>...</td>\n      <td>173.0</td>\n      <td>NaN</td>\n      <td>NaN</td>\n      <td>NaN</td>\n      <td>NaN</td>\n      <td>NaN</td>\n      <td>NaN</td>\n      <td>25.0</td>\n      <td>77.0</td>\n      <td>Database 2</td>\n    </tr>\n    <tr>\n      <th>3</th>\n      <td>Kwok, Alison G., and Chungyoon Chun. \"Thermal ...</td>\n      <td>Kwok Alison</td>\n      <td>2000.0</td>\n      <td>Summer</td>\n      <td>Cfa</td>\n      <td>Humid subtropical</td>\n      <td>Tokyo</td>\n      <td>Japan</td>\n      <td>Classroom</td>\n      <td>Air Conditioned</td>\n      <td>...</td>\n      <td>167.0</td>\n      <td>NaN</td>\n      <td>NaN</td>\n      <td>NaN</td>\n      <td>NaN</td>\n      <td>NaN</td>\n      <td>NaN</td>\n      <td>25.0</td>\n      <td>77.0</td>\n      <td>Database 2</td>\n    </tr>\n    <tr>\n      <th>4</th>\n      <td>Kwok, Alison G., and Chungyoon Chun. \"Thermal ...</td>\n      <td>Kwok Alison</td>\n      <td>2000.0</td>\n      <td>Summer</td>\n      <td>Cfa</td>\n      <td>Humid subtropical</td>\n      <td>Tokyo</td>\n      <td>Japan</td>\n      <td>Classroom</td>\n      <td>Air Conditioned</td>\n      <td>...</td>\n      <td>178.0</td>\n      <td>NaN</td>\n      <td>NaN</td>\n      <td>NaN</td>\n      <td>NaN</td>\n      <td>NaN</td>\n      <td>NaN</td>\n      <td>25.0</td>\n      <td>77.0</td>\n      <td>Database 2</td>\n    </tr>\n    <tr>\n      <th>...</th>\n      <td>...</td>\n      <td>...</td>\n      <td>...</td>\n      <td>...</td>\n      <td>...</td>\n      <td>...</td>\n      <td>...</td>\n      <td>...</td>\n      <td>...</td>\n      <td>...</td>\n      <td>...</td>\n      <td>...</td>\n      <td>...</td>\n      <td>...</td>\n      <td>...</td>\n      <td>...</td>\n      <td>...</td>\n      <td>...</td>\n      <td>...</td>\n      <td>...</td>\n      <td>...</td>\n    </tr>\n    <tr>\n      <th>107578</th>\n      <td>Kwok, A.G. \"Thermal Comfort in Tropical Classr...</td>\n      <td>Alison Kwok</td>\n      <td>1996.0</td>\n      <td>Winter</td>\n      <td>As</td>\n      <td>Tropical dry savanna</td>\n      <td>Honolulu</td>\n      <td>USA</td>\n      <td>Classroom</td>\n      <td>Air Conditioned</td>\n      <td>...</td>\n      <td>NaN</td>\n      <td>NaN</td>\n      <td>NaN</td>\n      <td>NaN</td>\n      <td>NaN</td>\n      <td>NaN</td>\n      <td>NaN</td>\n      <td>NaN</td>\n      <td>NaN</td>\n      <td>Database 1</td>\n    </tr>\n    <tr>\n      <th>107579</th>\n      <td>Kwok, A.G. \"Thermal Comfort in Tropical Classr...</td>\n      <td>Alison Kwok</td>\n      <td>1996.0</td>\n      <td>Winter</td>\n      <td>As</td>\n      <td>Tropical dry savanna</td>\n      <td>Honolulu</td>\n      <td>USA</td>\n      <td>Classroom</td>\n      <td>Air Conditioned</td>\n      <td>...</td>\n      <td>NaN</td>\n      <td>NaN</td>\n      <td>NaN</td>\n      <td>NaN</td>\n      <td>NaN</td>\n      <td>NaN</td>\n      <td>NaN</td>\n      <td>NaN</td>\n      <td>NaN</td>\n      <td>Database 1</td>\n    </tr>\n    <tr>\n      <th>107580</th>\n      <td>Kwok, A.G. \"Thermal Comfort in Tropical Classr...</td>\n      <td>Alison Kwok</td>\n      <td>1996.0</td>\n      <td>Winter</td>\n      <td>As</td>\n      <td>Tropical dry savanna</td>\n      <td>Honolulu</td>\n      <td>USA</td>\n      <td>Classroom</td>\n      <td>Air Conditioned</td>\n      <td>...</td>\n      <td>NaN</td>\n      <td>NaN</td>\n      <td>NaN</td>\n      <td>NaN</td>\n      <td>NaN</td>\n      <td>NaN</td>\n      <td>NaN</td>\n      <td>NaN</td>\n      <td>NaN</td>\n      <td>Database 1</td>\n    </tr>\n    <tr>\n      <th>107581</th>\n      <td>Kwok, A.G. \"Thermal Comfort in Tropical Classr...</td>\n      <td>Alison Kwok</td>\n      <td>1996.0</td>\n      <td>Winter</td>\n      <td>As</td>\n      <td>Tropical dry savanna</td>\n      <td>Honolulu</td>\n      <td>USA</td>\n      <td>Classroom</td>\n      <td>Air Conditioned</td>\n      <td>...</td>\n      <td>NaN</td>\n      <td>NaN</td>\n      <td>NaN</td>\n      <td>NaN</td>\n      <td>NaN</td>\n      <td>NaN</td>\n      <td>NaN</td>\n      <td>NaN</td>\n      <td>NaN</td>\n      <td>Database 1</td>\n    </tr>\n    <tr>\n      <th>107582</th>\n      <td>Kwok, A.G. \"Thermal Comfort in Tropical Classr...</td>\n      <td>Alison Kwok</td>\n      <td>1996.0</td>\n      <td>Winter</td>\n      <td>As</td>\n      <td>Tropical dry savanna</td>\n      <td>Honolulu</td>\n      <td>USA</td>\n      <td>Classroom</td>\n      <td>Air Conditioned</td>\n      <td>...</td>\n      <td>NaN</td>\n      <td>NaN</td>\n      <td>NaN</td>\n      <td>NaN</td>\n      <td>NaN</td>\n      <td>NaN</td>\n      <td>NaN</td>\n      <td>NaN</td>\n      <td>NaN</td>\n      <td>Database 1</td>\n    </tr>\n  </tbody>\n</table>\n<p>107583 rows × 70 columns</p>\n</div>"
     },
     "metadata": {},
     "execution_count": 3
    }
   ],
   "source": [
    "df = po.read_csv('data/ashrae_db2.01.csv', encoding='ISO-8859-1')\n",
    "df"
   ]
  },
  {
   "cell_type": "code",
   "execution_count": 4,
   "metadata": {},
   "outputs": [],
   "source": [
    "#profile = ProfileReport(df, title=\"Thermal Comfort Profiling Report\", explorative=True)"
   ]
  },
  {
   "cell_type": "code",
   "execution_count": 5,
   "metadata": {
    "tags": []
   },
   "outputs": [],
   "source": [
    "#profile.to_file(\"data/thermal_comfort_eda.html\")"
   ]
  },
  {
   "cell_type": "code",
   "execution_count": 6,
   "metadata": {},
   "outputs": [
    {
     "output_type": "execute_result",
     "data": {
      "text/plain": "Index(['Publication (Citation)', 'Data contributor', 'Year', 'Season',\n       'Koppen climate classification', 'Climate', 'City', 'Country',\n       'Building type', 'Cooling startegy_building level',\n       'Cooling startegy_operation mode for MM buildings',\n       'Heating strategy_building level', 'Age', 'Sex', 'Thermal sensation',\n       'Thermal sensation acceptability', 'Thermal preference',\n       'Air movement acceptability', 'Air movement preference',\n       'Thermal comfort', 'PMV', 'PPD', 'SET', 'Clo', 'Met', 'activity_10',\n       'activity_20', 'activity_30', 'activity_60', 'Air temperature (¡C)',\n       'Air temperature (¡F)', 'Ta_h (¡C)', 'Ta_h (¡F)', 'Ta_m (¡C)',\n       'Ta_m (¡F)', 'Ta_l (¡C)', 'Ta_l (¡F)', 'Operative temperature (¡C)',\n       'Operative temperature (¡F)', 'Radiant temperature (¡C)',\n       'Radiant temperature (¡F)', 'Globe temperature (¡C)',\n       'Globe temperature (¡F)', 'Tg_h (¡C)', 'Tg_h (¡F)', 'Tg_m (¡C)',\n       'Tg_m (¡F)', 'Tg_l (¡C)', 'Tg_l (¡F)', 'Relative humidity (%)',\n       'Humidity preference', 'Humidity sensation', 'Air velocity (m/s)',\n       'Air velocity (fpm)', 'Velocity_h (m/s)', 'Velocity_h (fpm)',\n       'Velocity_m (m/s)', 'Velocity_m (fpm)', 'Velocity_l (m/s)',\n       'Velocity_l (fpm)', 'Subject«s height (cm)', 'Subject«s weight (kg)',\n       'Blind (curtain)', 'Fan', 'Window', 'Door', 'Heater',\n       'Outdoor monthly air temperature (¡C)',\n       'Outdoor monthly air temperature (¡F)', 'Database'],\n      dtype='object')"
     },
     "metadata": {},
     "execution_count": 6
    }
   ],
   "source": [
    "df.columns"
   ]
  },
  {
   "cell_type": "code",
   "execution_count": 7,
   "metadata": {},
   "outputs": [
    {
     "output_type": "execute_result",
     "data": {
      "text/plain": "Naturally Ventilated       47285\nAir Conditioned            32372\nMixed Mode                 26519\nMechanically Ventilated      180\nName: Cooling startegy_building level, dtype: int64"
     },
     "metadata": {},
     "execution_count": 7
    }
   ],
   "source": [
    "df['Cooling startegy_building level'].value_counts()"
   ]
  },
  {
   "cell_type": "code",
   "execution_count": 8,
   "metadata": {},
   "outputs": [],
   "source": [
    "df = df[np.logical_or(df['Cooling startegy_building level'] == 'Air Conditioned', df['Cooling startegy_building level'] == 'Mixed Mode')]"
   ]
  },
  {
   "cell_type": "code",
   "execution_count": 9,
   "metadata": {},
   "outputs": [
    {
     "output_type": "execute_result",
     "data": {
      "text/plain": "       Thermal comfort  PMV  Thermal sensation\n0                    5  NaN               -0.5\n1                    5  NaN               -2.1\n2                    6  NaN                0.5\n3                    4  NaN               -2.5\n4                    6  NaN               -0.5\n...                ...  ...                ...\n107578               5  NaN               -2.1\n107579               5  NaN               -0.5\n107580               5  NaN               -1.0\n107581               4  NaN                1.0\n107582               5  NaN                0.6\n\n[58891 rows x 3 columns]",
      "text/html": "<div>\n<style scoped>\n    .dataframe tbody tr th:only-of-type {\n        vertical-align: middle;\n    }\n\n    .dataframe tbody tr th {\n        vertical-align: top;\n    }\n\n    .dataframe thead th {\n        text-align: right;\n    }\n</style>\n<table border=\"1\" class=\"dataframe\">\n  <thead>\n    <tr style=\"text-align: right;\">\n      <th></th>\n      <th>Thermal comfort</th>\n      <th>PMV</th>\n      <th>Thermal sensation</th>\n    </tr>\n  </thead>\n  <tbody>\n    <tr>\n      <th>0</th>\n      <td>5</td>\n      <td>NaN</td>\n      <td>-0.5</td>\n    </tr>\n    <tr>\n      <th>1</th>\n      <td>5</td>\n      <td>NaN</td>\n      <td>-2.1</td>\n    </tr>\n    <tr>\n      <th>2</th>\n      <td>6</td>\n      <td>NaN</td>\n      <td>0.5</td>\n    </tr>\n    <tr>\n      <th>3</th>\n      <td>4</td>\n      <td>NaN</td>\n      <td>-2.5</td>\n    </tr>\n    <tr>\n      <th>4</th>\n      <td>6</td>\n      <td>NaN</td>\n      <td>-0.5</td>\n    </tr>\n    <tr>\n      <th>...</th>\n      <td>...</td>\n      <td>...</td>\n      <td>...</td>\n    </tr>\n    <tr>\n      <th>107578</th>\n      <td>5</td>\n      <td>NaN</td>\n      <td>-2.1</td>\n    </tr>\n    <tr>\n      <th>107579</th>\n      <td>5</td>\n      <td>NaN</td>\n      <td>-0.5</td>\n    </tr>\n    <tr>\n      <th>107580</th>\n      <td>5</td>\n      <td>NaN</td>\n      <td>-1.0</td>\n    </tr>\n    <tr>\n      <th>107581</th>\n      <td>4</td>\n      <td>NaN</td>\n      <td>1.0</td>\n    </tr>\n    <tr>\n      <th>107582</th>\n      <td>5</td>\n      <td>NaN</td>\n      <td>0.6</td>\n    </tr>\n  </tbody>\n</table>\n<p>58891 rows × 3 columns</p>\n</div>"
     },
     "metadata": {},
     "execution_count": 9
    }
   ],
   "source": [
    "df[['Thermal comfort', 'PMV', 'Thermal sensation']]"
   ]
  },
  {
   "cell_type": "code",
   "execution_count": 10,
   "metadata": {},
   "outputs": [
    {
     "output_type": "execute_result",
     "data": {
      "text/plain": " 0.0    21881\n 1.0     9637\n-1.0     9414\n 2.0     4448\n-2.0     3314\n        ...  \n 2.8        7\n 2.7        6\n 2.6        5\n 2.9        3\n-2.9        3\nName: Thermal sensation, Length: 61, dtype: int64"
     },
     "metadata": {},
     "execution_count": 10
    }
   ],
   "source": [
    "df['Thermal sensation'].value_counts()"
   ]
  },
  {
   "cell_type": "code",
   "execution_count": 11,
   "metadata": {},
   "outputs": [
    {
     "output_type": "execute_result",
     "data": {
      "text/plain": " 0.10    1790\n 0.00    1726\n 0.30    1715\n 0.20    1703\n-0.10    1586\n         ... \n 1.21       1\n 1.17       1\n 1.06       1\n 2.01       1\n-2.75       1\nName: PMV, Length: 443, dtype: int64"
     },
     "metadata": {},
     "execution_count": 11
    }
   ],
   "source": [
    "df['PMV'].value_counts()"
   ]
  },
  {
   "cell_type": "code",
   "execution_count": 12,
   "metadata": {},
   "outputs": [
    {
     "output_type": "execute_result",
     "data": {
      "text/plain": "Office                 44797\nClassroom               5783\nOthers                  4954\nMultifamily housing     2536\nSenior center            821\nName: Building type, dtype: int64"
     },
     "metadata": {},
     "execution_count": 12
    }
   ],
   "source": [
    "df['Building type'].value_counts()"
   ]
  },
  {
   "cell_type": "markdown",
   "metadata": {},
   "source": [
    "df = df[['Season', 'Age', 'Sex', 'Thermal comfort', 'PMV', 'Air temperature (¡C)', 'Air temperature (¡F)', 'Ta_h (¡C)', 'Ta_h (¡F)', 'Ta_m (¡C)', 'Ta_m (¡F)', 'Ta_l (¡C)', 'Ta_l (¡F)', 'Operative temperature (¡C)', 'Operative temperature (¡F)', 'Radiant temperature (¡C)', 'Radiant temperature (¡F)', 'Globe temperature (¡C)', 'Globe temperature (¡F)', 'Tg_h (¡C)', 'Tg_h (¡F)', 'Tg_m (¡C)', 'Tg_m (¡F)', 'Tg_l (¡C)', 'Tg_l (¡F)', 'Relative humidity (%)', 'Humidity sensation', 'Air velocity (m/s)', 'Air velocity (fpm)', 'Velocity_h (m/s)', 'Velocity_h (fpm)', 'Velocity_m (m/s)', 'Velocity_m (fpm)', 'Velocity_l (m/s)', 'Velocity_l (fpm)', 'Outdoor monthly air temperature (¡C)', 'Outdoor monthly air temperature (¡F)']]"
   ]
  },
  {
   "cell_type": "code",
   "execution_count": 13,
   "metadata": {},
   "outputs": [],
   "source": [
    "df = df[['Season', 'Age', 'Sex', 'Thermal sensation', 'PMV', 'Air temperature (¡C)', 'Air temperature (¡F)','Radiant temperature (¡C)', 'Radiant temperature (¡F)', 'Globe temperature (¡C)', 'Globe temperature (¡F)', 'Relative humidity (%)', 'Humidity sensation', 'Air velocity (m/s)', 'Air velocity (fpm)', 'Velocity_h (m/s)', 'Velocity_h (fpm)', 'Velocity_m (m/s)', 'Velocity_m (fpm)', 'Velocity_l (m/s)', 'Velocity_l (fpm)', 'Outdoor monthly air temperature (¡C)', 'Outdoor monthly air temperature (¡F)']]"
   ]
  },
  {
   "cell_type": "code",
   "execution_count": 14,
   "metadata": {},
   "outputs": [],
   "source": [
    "df = po.concat([df.drop(['Season', 'Sex'], axis=1), po.get_dummies(df[['Season', 'Sex']])], axis=1)"
   ]
  },
  {
   "cell_type": "code",
   "execution_count": 15,
   "metadata": {},
   "outputs": [
    {
     "output_type": "execute_result",
     "data": {
      "text/plain": "         Age  Thermal sensation  PMV  Air temperature (¡C)  \\\n0       15.0               -0.5  NaN                  24.2   \n1       15.0               -2.1  NaN                  24.2   \n2       15.0                0.5  NaN                  24.2   \n3       14.0               -2.5  NaN                  24.2   \n4       15.0               -0.5  NaN                  24.2   \n...      ...                ...  ...                   ...   \n107578  17.0               -2.1  NaN                   NaN   \n107579  15.0               -0.5  NaN                   NaN   \n107580  16.0               -1.0  NaN                   NaN   \n107581  16.0                1.0  NaN                   NaN   \n107582  16.0                0.6  NaN                   NaN   \n\n        Air temperature (¡F)  Radiant temperature (¡C)  \\\n0                       75.6                       NaN   \n1                       75.6                       NaN   \n2                       75.6                       NaN   \n3                       75.6                       NaN   \n4                       75.6                       NaN   \n...                      ...                       ...   \n107578                   NaN                       NaN   \n107579                   NaN                       NaN   \n107580                   NaN                       NaN   \n107581                   NaN                       NaN   \n107582                   NaN                       NaN   \n\n        Radiant temperature (¡F)  Globe temperature (¡C)  \\\n0                            NaN                    24.0   \n1                            NaN                    24.0   \n2                            NaN                    24.0   \n3                            NaN                    24.0   \n4                            NaN                    24.0   \n...                          ...                     ...   \n107578                       NaN                    22.1   \n107579                       NaN                    22.1   \n107580                       NaN                    22.1   \n107581                       NaN                    22.1   \n107582                       NaN                    22.1   \n\n        Globe temperature (¡F)  Relative humidity (%)  ...  Velocity_l (m/s)  \\\n0                         75.2                   50.2  ...               NaN   \n1                         75.2                   50.2  ...               NaN   \n2                         75.2                   50.2  ...               NaN   \n3                         75.2                   50.2  ...               NaN   \n4                         75.2                   50.2  ...               NaN   \n...                        ...                    ...  ...               ...   \n107578                    71.8                   67.4  ...               NaN   \n107579                    71.8                   67.4  ...               NaN   \n107580                    71.8                   67.4  ...               NaN   \n107581                    71.8                   67.4  ...               NaN   \n107582                    71.8                   67.4  ...               NaN   \n\n        Velocity_l (fpm)  Outdoor monthly air temperature (¡C)  \\\n0                    NaN                                  25.0   \n1                    NaN                                  25.0   \n2                    NaN                                  25.0   \n3                    NaN                                  25.0   \n4                    NaN                                  25.0   \n...                  ...                                   ...   \n107578               NaN                                   NaN   \n107579               NaN                                   NaN   \n107580               NaN                                   NaN   \n107581               NaN                                   NaN   \n107582               NaN                                   NaN   \n\n        Outdoor monthly air temperature (¡F)  Season_Autumn  Season_Spring  \\\n0                                       77.0              0              0   \n1                                       77.0              0              0   \n2                                       77.0              0              0   \n3                                       77.0              0              0   \n4                                       77.0              0              0   \n...                                      ...            ...            ...   \n107578                                   NaN              0              0   \n107579                                   NaN              0              0   \n107580                                   NaN              0              0   \n107581                                   NaN              0              0   \n107582                                   NaN              0              0   \n\n        Season_Summer  Season_Winter  Sex_Female  Sex_Male  \n0                   1              0           1         0  \n1                   1              0           1         0  \n2                   1              0           0         1  \n3                   1              0           1         0  \n4                   1              0           0         1  \n...               ...            ...         ...       ...  \n107578              0              1           1         0  \n107579              0              1           1         0  \n107580              0              1           1         0  \n107581              0              1           0         1  \n107582              0              1           1         0  \n\n[58891 rows x 27 columns]",
      "text/html": "<div>\n<style scoped>\n    .dataframe tbody tr th:only-of-type {\n        vertical-align: middle;\n    }\n\n    .dataframe tbody tr th {\n        vertical-align: top;\n    }\n\n    .dataframe thead th {\n        text-align: right;\n    }\n</style>\n<table border=\"1\" class=\"dataframe\">\n  <thead>\n    <tr style=\"text-align: right;\">\n      <th></th>\n      <th>Age</th>\n      <th>Thermal sensation</th>\n      <th>PMV</th>\n      <th>Air temperature (¡C)</th>\n      <th>Air temperature (¡F)</th>\n      <th>Radiant temperature (¡C)</th>\n      <th>Radiant temperature (¡F)</th>\n      <th>Globe temperature (¡C)</th>\n      <th>Globe temperature (¡F)</th>\n      <th>Relative humidity (%)</th>\n      <th>...</th>\n      <th>Velocity_l (m/s)</th>\n      <th>Velocity_l (fpm)</th>\n      <th>Outdoor monthly air temperature (¡C)</th>\n      <th>Outdoor monthly air temperature (¡F)</th>\n      <th>Season_Autumn</th>\n      <th>Season_Spring</th>\n      <th>Season_Summer</th>\n      <th>Season_Winter</th>\n      <th>Sex_Female</th>\n      <th>Sex_Male</th>\n    </tr>\n  </thead>\n  <tbody>\n    <tr>\n      <th>0</th>\n      <td>15.0</td>\n      <td>-0.5</td>\n      <td>NaN</td>\n      <td>24.2</td>\n      <td>75.6</td>\n      <td>NaN</td>\n      <td>NaN</td>\n      <td>24.0</td>\n      <td>75.2</td>\n      <td>50.2</td>\n      <td>...</td>\n      <td>NaN</td>\n      <td>NaN</td>\n      <td>25.0</td>\n      <td>77.0</td>\n      <td>0</td>\n      <td>0</td>\n      <td>1</td>\n      <td>0</td>\n      <td>1</td>\n      <td>0</td>\n    </tr>\n    <tr>\n      <th>1</th>\n      <td>15.0</td>\n      <td>-2.1</td>\n      <td>NaN</td>\n      <td>24.2</td>\n      <td>75.6</td>\n      <td>NaN</td>\n      <td>NaN</td>\n      <td>24.0</td>\n      <td>75.2</td>\n      <td>50.2</td>\n      <td>...</td>\n      <td>NaN</td>\n      <td>NaN</td>\n      <td>25.0</td>\n      <td>77.0</td>\n      <td>0</td>\n      <td>0</td>\n      <td>1</td>\n      <td>0</td>\n      <td>1</td>\n      <td>0</td>\n    </tr>\n    <tr>\n      <th>2</th>\n      <td>15.0</td>\n      <td>0.5</td>\n      <td>NaN</td>\n      <td>24.2</td>\n      <td>75.6</td>\n      <td>NaN</td>\n      <td>NaN</td>\n      <td>24.0</td>\n      <td>75.2</td>\n      <td>50.2</td>\n      <td>...</td>\n      <td>NaN</td>\n      <td>NaN</td>\n      <td>25.0</td>\n      <td>77.0</td>\n      <td>0</td>\n      <td>0</td>\n      <td>1</td>\n      <td>0</td>\n      <td>0</td>\n      <td>1</td>\n    </tr>\n    <tr>\n      <th>3</th>\n      <td>14.0</td>\n      <td>-2.5</td>\n      <td>NaN</td>\n      <td>24.2</td>\n      <td>75.6</td>\n      <td>NaN</td>\n      <td>NaN</td>\n      <td>24.0</td>\n      <td>75.2</td>\n      <td>50.2</td>\n      <td>...</td>\n      <td>NaN</td>\n      <td>NaN</td>\n      <td>25.0</td>\n      <td>77.0</td>\n      <td>0</td>\n      <td>0</td>\n      <td>1</td>\n      <td>0</td>\n      <td>1</td>\n      <td>0</td>\n    </tr>\n    <tr>\n      <th>4</th>\n      <td>15.0</td>\n      <td>-0.5</td>\n      <td>NaN</td>\n      <td>24.2</td>\n      <td>75.6</td>\n      <td>NaN</td>\n      <td>NaN</td>\n      <td>24.0</td>\n      <td>75.2</td>\n      <td>50.2</td>\n      <td>...</td>\n      <td>NaN</td>\n      <td>NaN</td>\n      <td>25.0</td>\n      <td>77.0</td>\n      <td>0</td>\n      <td>0</td>\n      <td>1</td>\n      <td>0</td>\n      <td>0</td>\n      <td>1</td>\n    </tr>\n    <tr>\n      <th>...</th>\n      <td>...</td>\n      <td>...</td>\n      <td>...</td>\n      <td>...</td>\n      <td>...</td>\n      <td>...</td>\n      <td>...</td>\n      <td>...</td>\n      <td>...</td>\n      <td>...</td>\n      <td>...</td>\n      <td>...</td>\n      <td>...</td>\n      <td>...</td>\n      <td>...</td>\n      <td>...</td>\n      <td>...</td>\n      <td>...</td>\n      <td>...</td>\n      <td>...</td>\n      <td>...</td>\n    </tr>\n    <tr>\n      <th>107578</th>\n      <td>17.0</td>\n      <td>-2.1</td>\n      <td>NaN</td>\n      <td>NaN</td>\n      <td>NaN</td>\n      <td>NaN</td>\n      <td>NaN</td>\n      <td>22.1</td>\n      <td>71.8</td>\n      <td>67.4</td>\n      <td>...</td>\n      <td>NaN</td>\n      <td>NaN</td>\n      <td>NaN</td>\n      <td>NaN</td>\n      <td>0</td>\n      <td>0</td>\n      <td>0</td>\n      <td>1</td>\n      <td>1</td>\n      <td>0</td>\n    </tr>\n    <tr>\n      <th>107579</th>\n      <td>15.0</td>\n      <td>-0.5</td>\n      <td>NaN</td>\n      <td>NaN</td>\n      <td>NaN</td>\n      <td>NaN</td>\n      <td>NaN</td>\n      <td>22.1</td>\n      <td>71.8</td>\n      <td>67.4</td>\n      <td>...</td>\n      <td>NaN</td>\n      <td>NaN</td>\n      <td>NaN</td>\n      <td>NaN</td>\n      <td>0</td>\n      <td>0</td>\n      <td>0</td>\n      <td>1</td>\n      <td>1</td>\n      <td>0</td>\n    </tr>\n    <tr>\n      <th>107580</th>\n      <td>16.0</td>\n      <td>-1.0</td>\n      <td>NaN</td>\n      <td>NaN</td>\n      <td>NaN</td>\n      <td>NaN</td>\n      <td>NaN</td>\n      <td>22.1</td>\n      <td>71.8</td>\n      <td>67.4</td>\n      <td>...</td>\n      <td>NaN</td>\n      <td>NaN</td>\n      <td>NaN</td>\n      <td>NaN</td>\n      <td>0</td>\n      <td>0</td>\n      <td>0</td>\n      <td>1</td>\n      <td>1</td>\n      <td>0</td>\n    </tr>\n    <tr>\n      <th>107581</th>\n      <td>16.0</td>\n      <td>1.0</td>\n      <td>NaN</td>\n      <td>NaN</td>\n      <td>NaN</td>\n      <td>NaN</td>\n      <td>NaN</td>\n      <td>22.1</td>\n      <td>71.8</td>\n      <td>67.4</td>\n      <td>...</td>\n      <td>NaN</td>\n      <td>NaN</td>\n      <td>NaN</td>\n      <td>NaN</td>\n      <td>0</td>\n      <td>0</td>\n      <td>0</td>\n      <td>1</td>\n      <td>0</td>\n      <td>1</td>\n    </tr>\n    <tr>\n      <th>107582</th>\n      <td>16.0</td>\n      <td>0.6</td>\n      <td>NaN</td>\n      <td>NaN</td>\n      <td>NaN</td>\n      <td>NaN</td>\n      <td>NaN</td>\n      <td>22.1</td>\n      <td>71.8</td>\n      <td>67.4</td>\n      <td>...</td>\n      <td>NaN</td>\n      <td>NaN</td>\n      <td>NaN</td>\n      <td>NaN</td>\n      <td>0</td>\n      <td>0</td>\n      <td>0</td>\n      <td>1</td>\n      <td>1</td>\n      <td>0</td>\n    </tr>\n  </tbody>\n</table>\n<p>58891 rows × 27 columns</p>\n</div>"
     },
     "metadata": {},
     "execution_count": 15
    }
   ],
   "source": [
    "df"
   ]
  },
  {
   "cell_type": "code",
   "execution_count": 16,
   "metadata": {},
   "outputs": [
    {
     "output_type": "execute_result",
     "data": {
      "text/plain": "Age                                     float64\nThermal sensation                       float64\nPMV                                     float64\nAir temperature (¡C)                    float64\nAir temperature (¡F)                    float64\nRadiant temperature (¡C)                float64\nRadiant temperature (¡F)                float64\nGlobe temperature (¡C)                  float64\nGlobe temperature (¡F)                  float64\nRelative humidity (%)                   float64\nHumidity sensation                      float64\nAir velocity (m/s)                      float64\nAir velocity (fpm)                      float64\nVelocity_h (m/s)                        float64\nVelocity_h (fpm)                        float64\nVelocity_m (m/s)                        float64\nVelocity_m (fpm)                        float64\nVelocity_l (m/s)                        float64\nVelocity_l (fpm)                        float64\nOutdoor monthly air temperature (¡C)    float64\nOutdoor monthly air temperature (¡F)    float64\nSeason_Autumn                             uint8\nSeason_Spring                             uint8\nSeason_Summer                             uint8\nSeason_Winter                             uint8\nSex_Female                                uint8\nSex_Male                                  uint8\ndtype: object"
     },
     "metadata": {},
     "execution_count": 16
    }
   ],
   "source": [
    "df.dtypes"
   ]
  },
  {
   "cell_type": "code",
   "execution_count": 17,
   "metadata": {},
   "outputs": [],
   "source": [
    "#df = df[df['Thermal comfort'] != 'Na']"
   ]
  },
  {
   "cell_type": "code",
   "execution_count": 18,
   "metadata": {},
   "outputs": [],
   "source": [
    "#df['Thermal comfort'] = df['Thermal comfort'].apply(lambda x: x if type(x) == float else None)"
   ]
  },
  {
   "cell_type": "code",
   "execution_count": 19,
   "metadata": {},
   "outputs": [],
   "source": [
    "df = df.fillna(value=df.median())"
   ]
  },
  {
   "cell_type": "code",
   "execution_count": 20,
   "metadata": {},
   "outputs": [
    {
     "output_type": "execute_result",
     "data": {
      "text/plain": "         Age  Thermal sensation  PMV  Air temperature (¡C)  \\\n0       15.0               -0.5  0.1                  24.2   \n1       15.0               -2.1  0.1                  24.2   \n2       15.0                0.5  0.1                  24.2   \n3       14.0               -2.5  0.1                  24.2   \n4       15.0               -0.5  0.1                  24.2   \n...      ...                ...  ...                   ...   \n107578  17.0               -2.1  0.1                  23.8   \n107579  15.0               -0.5  0.1                  23.8   \n107580  16.0               -1.0  0.1                  23.8   \n107581  16.0                1.0  0.1                  23.8   \n107582  16.0                0.6  0.1                  23.8   \n\n        Air temperature (¡F)  Radiant temperature (¡C)  \\\n0                       75.6                      23.6   \n1                       75.6                      23.6   \n2                       75.6                      23.6   \n3                       75.6                      23.6   \n4                       75.6                      23.6   \n...                      ...                       ...   \n107578                  74.9                      23.6   \n107579                  74.9                      23.6   \n107580                  74.9                      23.6   \n107581                  74.9                      23.6   \n107582                  74.9                      23.6   \n\n        Radiant temperature (¡F)  Globe temperature (¡C)  \\\n0                           74.4                    24.0   \n1                           74.4                    24.0   \n2                           74.4                    24.0   \n3                           74.4                    24.0   \n4                           74.4                    24.0   \n...                          ...                     ...   \n107578                      74.4                    22.1   \n107579                      74.4                    22.1   \n107580                      74.4                    22.1   \n107581                      74.4                    22.1   \n107582                      74.4                    22.1   \n\n        Globe temperature (¡F)  Relative humidity (%)  ...  Velocity_l (m/s)  \\\n0                         75.2                   50.2  ...              0.08   \n1                         75.2                   50.2  ...              0.08   \n2                         75.2                   50.2  ...              0.08   \n3                         75.2                   50.2  ...              0.08   \n4                         75.2                   50.2  ...              0.08   \n...                        ...                    ...  ...               ...   \n107578                    71.8                   67.4  ...              0.08   \n107579                    71.8                   67.4  ...              0.08   \n107580                    71.8                   67.4  ...              0.08   \n107581                    71.8                   67.4  ...              0.08   \n107582                    71.8                   67.4  ...              0.08   \n\n        Velocity_l (fpm)  Outdoor monthly air temperature (¡C)  \\\n0                  16.54                                  25.0   \n1                  16.54                                  25.0   \n2                  16.54                                  25.0   \n3                  16.54                                  25.0   \n4                  16.54                                  25.0   \n...                  ...                                   ...   \n107578             16.54                                  18.6   \n107579             16.54                                  18.6   \n107580             16.54                                  18.6   \n107581             16.54                                  18.6   \n107582             16.54                                  18.6   \n\n        Outdoor monthly air temperature (¡F)  Season_Autumn  Season_Spring  \\\n0                                      77.00            0.0            0.0   \n1                                      77.00            0.0            0.0   \n2                                      77.00            0.0            0.0   \n3                                      77.00            0.0            0.0   \n4                                      77.00            0.0            0.0   \n...                                      ...            ...            ...   \n107578                                 65.45            0.0            0.0   \n107579                                 65.45            0.0            0.0   \n107580                                 65.45            0.0            0.0   \n107581                                 65.45            0.0            0.0   \n107582                                 65.45            0.0            0.0   \n\n        Season_Summer  Season_Winter  Sex_Female  Sex_Male  \n0                 1.0            0.0         1.0       0.0  \n1                 1.0            0.0         1.0       0.0  \n2                 1.0            0.0         0.0       1.0  \n3                 1.0            0.0         1.0       0.0  \n4                 1.0            0.0         0.0       1.0  \n...               ...            ...         ...       ...  \n107578            0.0            1.0         1.0       0.0  \n107579            0.0            1.0         1.0       0.0  \n107580            0.0            1.0         1.0       0.0  \n107581            0.0            1.0         0.0       1.0  \n107582            0.0            1.0         1.0       0.0  \n\n[58891 rows x 27 columns]",
      "text/html": "<div>\n<style scoped>\n    .dataframe tbody tr th:only-of-type {\n        vertical-align: middle;\n    }\n\n    .dataframe tbody tr th {\n        vertical-align: top;\n    }\n\n    .dataframe thead th {\n        text-align: right;\n    }\n</style>\n<table border=\"1\" class=\"dataframe\">\n  <thead>\n    <tr style=\"text-align: right;\">\n      <th></th>\n      <th>Age</th>\n      <th>Thermal sensation</th>\n      <th>PMV</th>\n      <th>Air temperature (¡C)</th>\n      <th>Air temperature (¡F)</th>\n      <th>Radiant temperature (¡C)</th>\n      <th>Radiant temperature (¡F)</th>\n      <th>Globe temperature (¡C)</th>\n      <th>Globe temperature (¡F)</th>\n      <th>Relative humidity (%)</th>\n      <th>...</th>\n      <th>Velocity_l (m/s)</th>\n      <th>Velocity_l (fpm)</th>\n      <th>Outdoor monthly air temperature (¡C)</th>\n      <th>Outdoor monthly air temperature (¡F)</th>\n      <th>Season_Autumn</th>\n      <th>Season_Spring</th>\n      <th>Season_Summer</th>\n      <th>Season_Winter</th>\n      <th>Sex_Female</th>\n      <th>Sex_Male</th>\n    </tr>\n  </thead>\n  <tbody>\n    <tr>\n      <th>0</th>\n      <td>15.0</td>\n      <td>-0.5</td>\n      <td>0.1</td>\n      <td>24.2</td>\n      <td>75.6</td>\n      <td>23.6</td>\n      <td>74.4</td>\n      <td>24.0</td>\n      <td>75.2</td>\n      <td>50.2</td>\n      <td>...</td>\n      <td>0.08</td>\n      <td>16.54</td>\n      <td>25.0</td>\n      <td>77.00</td>\n      <td>0.0</td>\n      <td>0.0</td>\n      <td>1.0</td>\n      <td>0.0</td>\n      <td>1.0</td>\n      <td>0.0</td>\n    </tr>\n    <tr>\n      <th>1</th>\n      <td>15.0</td>\n      <td>-2.1</td>\n      <td>0.1</td>\n      <td>24.2</td>\n      <td>75.6</td>\n      <td>23.6</td>\n      <td>74.4</td>\n      <td>24.0</td>\n      <td>75.2</td>\n      <td>50.2</td>\n      <td>...</td>\n      <td>0.08</td>\n      <td>16.54</td>\n      <td>25.0</td>\n      <td>77.00</td>\n      <td>0.0</td>\n      <td>0.0</td>\n      <td>1.0</td>\n      <td>0.0</td>\n      <td>1.0</td>\n      <td>0.0</td>\n    </tr>\n    <tr>\n      <th>2</th>\n      <td>15.0</td>\n      <td>0.5</td>\n      <td>0.1</td>\n      <td>24.2</td>\n      <td>75.6</td>\n      <td>23.6</td>\n      <td>74.4</td>\n      <td>24.0</td>\n      <td>75.2</td>\n      <td>50.2</td>\n      <td>...</td>\n      <td>0.08</td>\n      <td>16.54</td>\n      <td>25.0</td>\n      <td>77.00</td>\n      <td>0.0</td>\n      <td>0.0</td>\n      <td>1.0</td>\n      <td>0.0</td>\n      <td>0.0</td>\n      <td>1.0</td>\n    </tr>\n    <tr>\n      <th>3</th>\n      <td>14.0</td>\n      <td>-2.5</td>\n      <td>0.1</td>\n      <td>24.2</td>\n      <td>75.6</td>\n      <td>23.6</td>\n      <td>74.4</td>\n      <td>24.0</td>\n      <td>75.2</td>\n      <td>50.2</td>\n      <td>...</td>\n      <td>0.08</td>\n      <td>16.54</td>\n      <td>25.0</td>\n      <td>77.00</td>\n      <td>0.0</td>\n      <td>0.0</td>\n      <td>1.0</td>\n      <td>0.0</td>\n      <td>1.0</td>\n      <td>0.0</td>\n    </tr>\n    <tr>\n      <th>4</th>\n      <td>15.0</td>\n      <td>-0.5</td>\n      <td>0.1</td>\n      <td>24.2</td>\n      <td>75.6</td>\n      <td>23.6</td>\n      <td>74.4</td>\n      <td>24.0</td>\n      <td>75.2</td>\n      <td>50.2</td>\n      <td>...</td>\n      <td>0.08</td>\n      <td>16.54</td>\n      <td>25.0</td>\n      <td>77.00</td>\n      <td>0.0</td>\n      <td>0.0</td>\n      <td>1.0</td>\n      <td>0.0</td>\n      <td>0.0</td>\n      <td>1.0</td>\n    </tr>\n    <tr>\n      <th>...</th>\n      <td>...</td>\n      <td>...</td>\n      <td>...</td>\n      <td>...</td>\n      <td>...</td>\n      <td>...</td>\n      <td>...</td>\n      <td>...</td>\n      <td>...</td>\n      <td>...</td>\n      <td>...</td>\n      <td>...</td>\n      <td>...</td>\n      <td>...</td>\n      <td>...</td>\n      <td>...</td>\n      <td>...</td>\n      <td>...</td>\n      <td>...</td>\n      <td>...</td>\n      <td>...</td>\n    </tr>\n    <tr>\n      <th>107578</th>\n      <td>17.0</td>\n      <td>-2.1</td>\n      <td>0.1</td>\n      <td>23.8</td>\n      <td>74.9</td>\n      <td>23.6</td>\n      <td>74.4</td>\n      <td>22.1</td>\n      <td>71.8</td>\n      <td>67.4</td>\n      <td>...</td>\n      <td>0.08</td>\n      <td>16.54</td>\n      <td>18.6</td>\n      <td>65.45</td>\n      <td>0.0</td>\n      <td>0.0</td>\n      <td>0.0</td>\n      <td>1.0</td>\n      <td>1.0</td>\n      <td>0.0</td>\n    </tr>\n    <tr>\n      <th>107579</th>\n      <td>15.0</td>\n      <td>-0.5</td>\n      <td>0.1</td>\n      <td>23.8</td>\n      <td>74.9</td>\n      <td>23.6</td>\n      <td>74.4</td>\n      <td>22.1</td>\n      <td>71.8</td>\n      <td>67.4</td>\n      <td>...</td>\n      <td>0.08</td>\n      <td>16.54</td>\n      <td>18.6</td>\n      <td>65.45</td>\n      <td>0.0</td>\n      <td>0.0</td>\n      <td>0.0</td>\n      <td>1.0</td>\n      <td>1.0</td>\n      <td>0.0</td>\n    </tr>\n    <tr>\n      <th>107580</th>\n      <td>16.0</td>\n      <td>-1.0</td>\n      <td>0.1</td>\n      <td>23.8</td>\n      <td>74.9</td>\n      <td>23.6</td>\n      <td>74.4</td>\n      <td>22.1</td>\n      <td>71.8</td>\n      <td>67.4</td>\n      <td>...</td>\n      <td>0.08</td>\n      <td>16.54</td>\n      <td>18.6</td>\n      <td>65.45</td>\n      <td>0.0</td>\n      <td>0.0</td>\n      <td>0.0</td>\n      <td>1.0</td>\n      <td>1.0</td>\n      <td>0.0</td>\n    </tr>\n    <tr>\n      <th>107581</th>\n      <td>16.0</td>\n      <td>1.0</td>\n      <td>0.1</td>\n      <td>23.8</td>\n      <td>74.9</td>\n      <td>23.6</td>\n      <td>74.4</td>\n      <td>22.1</td>\n      <td>71.8</td>\n      <td>67.4</td>\n      <td>...</td>\n      <td>0.08</td>\n      <td>16.54</td>\n      <td>18.6</td>\n      <td>65.45</td>\n      <td>0.0</td>\n      <td>0.0</td>\n      <td>0.0</td>\n      <td>1.0</td>\n      <td>0.0</td>\n      <td>1.0</td>\n    </tr>\n    <tr>\n      <th>107582</th>\n      <td>16.0</td>\n      <td>0.6</td>\n      <td>0.1</td>\n      <td>23.8</td>\n      <td>74.9</td>\n      <td>23.6</td>\n      <td>74.4</td>\n      <td>22.1</td>\n      <td>71.8</td>\n      <td>67.4</td>\n      <td>...</td>\n      <td>0.08</td>\n      <td>16.54</td>\n      <td>18.6</td>\n      <td>65.45</td>\n      <td>0.0</td>\n      <td>0.0</td>\n      <td>0.0</td>\n      <td>1.0</td>\n      <td>1.0</td>\n      <td>0.0</td>\n    </tr>\n  </tbody>\n</table>\n<p>58891 rows × 27 columns</p>\n</div>"
     },
     "metadata": {},
     "execution_count": 20
    }
   ],
   "source": [
    "df.astype('float')"
   ]
  },
  {
   "cell_type": "code",
   "execution_count": 21,
   "metadata": {},
   "outputs": [],
   "source": [
    "df['Thermal sensation'] = df['Thermal sensation'].apply(lambda x: -2 if x <= -2 else x)\n",
    "df['Thermal sensation'] = df['Thermal sensation'].apply(lambda x: 2 if x >= 2 else x)"
   ]
  },
  {
   "cell_type": "code",
   "execution_count": 31,
   "metadata": {},
   "outputs": [],
   "source": [
    "# Making it categorical\n",
    "df['Thermal sensation'] = df['Thermal sensation'].apply(lambda x: np.round(x))"
   ]
  },
  {
   "cell_type": "code",
   "execution_count": 33,
   "metadata": {},
   "outputs": [
    {
     "output_type": "execute_result",
     "data": {
      "text/plain": "(array([ 5023.,     0., 10059.,     0.,     0., 26551.,     0., 10248.,\n            0.,  7010.]),\n array([-2. , -1.6, -1.2, -0.8, -0.4,  0. ,  0.4,  0.8,  1.2,  1.6,  2. ]),\n <a list of 10 Patch objects>)"
     },
     "metadata": {},
     "execution_count": 33
    },
    {
     "output_type": "display_data",
     "data": {
      "text/plain": "<Figure size 720x360 with 1 Axes>",
      "image/svg+xml": "<?xml version=\"1.0\" encoding=\"utf-8\" standalone=\"no\"?>\n<!DOCTYPE svg PUBLIC \"-//W3C//DTD SVG 1.1//EN\"\n  \"http://www.w3.org/Graphics/SVG/1.1/DTD/svg11.dtd\">\n<!-- Created with matplotlib (https://matplotlib.org/) -->\n<svg height=\"302.878125pt\" version=\"1.1\" viewBox=\"0 0 611.2125 302.878125\" width=\"611.2125pt\" xmlns=\"http://www.w3.org/2000/svg\" xmlns:xlink=\"http://www.w3.org/1999/xlink\">\n <defs>\n  <style type=\"text/css\">\n*{stroke-linecap:butt;stroke-linejoin:round;}\n  </style>\n </defs>\n <g id=\"figure_1\">\n  <g id=\"patch_1\">\n   <path d=\"M 0 302.878125 \nL 611.2125 302.878125 \nL 611.2125 0 \nL 0 0 \nz\n\" style=\"fill:none;\"/>\n  </g>\n  <g id=\"axes_1\">\n   <g id=\"patch_2\">\n    <path d=\"M 46.0125 279 \nL 604.0125 279 \nL 604.0125 7.2 \nL 46.0125 7.2 \nz\n\" style=\"fill:#ffffff;\"/>\n   </g>\n   <g id=\"patch_3\">\n    <path clip-path=\"url(#p125222196c)\" d=\"M 71.376136 279 \nL 122.103409 279 \nL 122.103409 230.028608 \nL 71.376136 230.028608 \nz\n\" style=\"fill:#1f77b4;\"/>\n   </g>\n   <g id=\"patch_4\">\n    <path clip-path=\"url(#p125222196c)\" d=\"M 122.103409 279 \nL 172.830682 279 \nL 172.830682 279 \nL 122.103409 279 \nz\n\" style=\"fill:#1f77b4;\"/>\n   </g>\n   <g id=\"patch_5\">\n    <path clip-path=\"url(#p125222196c)\" d=\"M 172.830682 279 \nL 223.557955 279 \nL 223.557955 180.930473 \nL 172.830682 180.930473 \nz\n\" style=\"fill:#1f77b4;\"/>\n   </g>\n   <g id=\"patch_6\">\n    <path clip-path=\"url(#p125222196c)\" d=\"M 223.557955 279 \nL 274.285227 279 \nL 274.285227 279 \nL 223.557955 279 \nz\n\" style=\"fill:#1f77b4;\"/>\n   </g>\n   <g id=\"patch_7\">\n    <path clip-path=\"url(#p125222196c)\" d=\"M 274.285227 279 \nL 325.0125 279 \nL 325.0125 279 \nL 274.285227 279 \nz\n\" style=\"fill:#1f77b4;\"/>\n   </g>\n   <g id=\"patch_8\">\n    <path clip-path=\"url(#p125222196c)\" d=\"M 325.0125 279 \nL 375.739773 279 \nL 375.739773 20.142857 \nL 325.0125 20.142857 \nz\n\" style=\"fill:#1f77b4;\"/>\n   </g>\n   <g id=\"patch_9\">\n    <path clip-path=\"url(#p125222196c)\" d=\"M 375.739773 279 \nL 426.467045 279 \nL 426.467045 279 \nL 375.739773 279 \nz\n\" style=\"fill:#1f77b4;\"/>\n   </g>\n   <g id=\"patch_10\">\n    <path clip-path=\"url(#p125222196c)\" d=\"M 426.467045 279 \nL 477.194318 279 \nL 477.194318 179.087831 \nL 426.467045 179.087831 \nz\n\" style=\"fill:#1f77b4;\"/>\n   </g>\n   <g id=\"patch_11\">\n    <path clip-path=\"url(#p125222196c)\" d=\"M 477.194318 279 \nL 527.921591 279 \nL 527.921591 279 \nL 477.194318 279 \nz\n\" style=\"fill:#1f77b4;\"/>\n   </g>\n   <g id=\"patch_12\">\n    <path clip-path=\"url(#p125222196c)\" d=\"M 527.921591 279 \nL 578.648864 279 \nL 578.648864 210.656489 \nL 527.921591 210.656489 \nz\n\" style=\"fill:#1f77b4;\"/>\n   </g>\n   <g id=\"matplotlib.axis_1\">\n    <g id=\"xtick_1\">\n     <g id=\"line2d_1\">\n      <defs>\n       <path d=\"M 0 0 \nL 0 3.5 \n\" id=\"m22449ed0b1\" style=\"stroke:#000000;stroke-width:0.8;\"/>\n      </defs>\n      <g>\n       <use style=\"stroke:#000000;stroke-width:0.8;\" x=\"71.376136\" xlink:href=\"#m22449ed0b1\" y=\"279\"/>\n      </g>\n     </g>\n     <g id=\"text_1\">\n      <!-- −2.0 -->\n      <defs>\n       <path d=\"M 10.59375 35.5 \nL 73.1875 35.5 \nL 73.1875 27.203125 \nL 10.59375 27.203125 \nz\n\" id=\"DejaVuSans-8722\"/>\n       <path d=\"M 19.1875 8.296875 \nL 53.609375 8.296875 \nL 53.609375 0 \nL 7.328125 0 \nL 7.328125 8.296875 \nQ 12.9375 14.109375 22.625 23.890625 \nQ 32.328125 33.6875 34.8125 36.53125 \nQ 39.546875 41.84375 41.421875 45.53125 \nQ 43.3125 49.21875 43.3125 52.78125 \nQ 43.3125 58.59375 39.234375 62.25 \nQ 35.15625 65.921875 28.609375 65.921875 \nQ 23.96875 65.921875 18.8125 64.3125 \nQ 13.671875 62.703125 7.8125 59.421875 \nL 7.8125 69.390625 \nQ 13.765625 71.78125 18.9375 73 \nQ 24.125 74.21875 28.421875 74.21875 \nQ 39.75 74.21875 46.484375 68.546875 \nQ 53.21875 62.890625 53.21875 53.421875 \nQ 53.21875 48.921875 51.53125 44.890625 \nQ 49.859375 40.875 45.40625 35.40625 \nQ 44.1875 33.984375 37.640625 27.21875 \nQ 31.109375 20.453125 19.1875 8.296875 \nz\n\" id=\"DejaVuSans-50\"/>\n       <path d=\"M 10.6875 12.40625 \nL 21 12.40625 \nL 21 0 \nL 10.6875 0 \nz\n\" id=\"DejaVuSans-46\"/>\n       <path d=\"M 31.78125 66.40625 \nQ 24.171875 66.40625 20.328125 58.90625 \nQ 16.5 51.421875 16.5 36.375 \nQ 16.5 21.390625 20.328125 13.890625 \nQ 24.171875 6.390625 31.78125 6.390625 \nQ 39.453125 6.390625 43.28125 13.890625 \nQ 47.125 21.390625 47.125 36.375 \nQ 47.125 51.421875 43.28125 58.90625 \nQ 39.453125 66.40625 31.78125 66.40625 \nz\nM 31.78125 74.21875 \nQ 44.046875 74.21875 50.515625 64.515625 \nQ 56.984375 54.828125 56.984375 36.375 \nQ 56.984375 17.96875 50.515625 8.265625 \nQ 44.046875 -1.421875 31.78125 -1.421875 \nQ 19.53125 -1.421875 13.0625 8.265625 \nQ 6.59375 17.96875 6.59375 36.375 \nQ 6.59375 54.828125 13.0625 64.515625 \nQ 19.53125 74.21875 31.78125 74.21875 \nz\n\" id=\"DejaVuSans-48\"/>\n      </defs>\n      <g transform=\"translate(59.23473 293.598437)scale(0.1 -0.1)\">\n       <use xlink:href=\"#DejaVuSans-8722\"/>\n       <use x=\"83.789062\" xlink:href=\"#DejaVuSans-50\"/>\n       <use x=\"147.412109\" xlink:href=\"#DejaVuSans-46\"/>\n       <use x=\"179.199219\" xlink:href=\"#DejaVuSans-48\"/>\n      </g>\n     </g>\n    </g>\n    <g id=\"xtick_2\">\n     <g id=\"line2d_2\">\n      <g>\n       <use style=\"stroke:#000000;stroke-width:0.8;\" x=\"134.785227\" xlink:href=\"#m22449ed0b1\" y=\"279\"/>\n      </g>\n     </g>\n     <g id=\"text_2\">\n      <!-- −1.5 -->\n      <defs>\n       <path d=\"M 12.40625 8.296875 \nL 28.515625 8.296875 \nL 28.515625 63.921875 \nL 10.984375 60.40625 \nL 10.984375 69.390625 \nL 28.421875 72.90625 \nL 38.28125 72.90625 \nL 38.28125 8.296875 \nL 54.390625 8.296875 \nL 54.390625 0 \nL 12.40625 0 \nz\n\" id=\"DejaVuSans-49\"/>\n       <path d=\"M 10.796875 72.90625 \nL 49.515625 72.90625 \nL 49.515625 64.59375 \nL 19.828125 64.59375 \nL 19.828125 46.734375 \nQ 21.96875 47.46875 24.109375 47.828125 \nQ 26.265625 48.1875 28.421875 48.1875 \nQ 40.625 48.1875 47.75 41.5 \nQ 54.890625 34.8125 54.890625 23.390625 \nQ 54.890625 11.625 47.5625 5.09375 \nQ 40.234375 -1.421875 26.90625 -1.421875 \nQ 22.3125 -1.421875 17.546875 -0.640625 \nQ 12.796875 0.140625 7.71875 1.703125 \nL 7.71875 11.625 \nQ 12.109375 9.234375 16.796875 8.0625 \nQ 21.484375 6.890625 26.703125 6.890625 \nQ 35.15625 6.890625 40.078125 11.328125 \nQ 45.015625 15.765625 45.015625 23.390625 \nQ 45.015625 31 40.078125 35.4375 \nQ 35.15625 39.890625 26.703125 39.890625 \nQ 22.75 39.890625 18.8125 39.015625 \nQ 14.890625 38.140625 10.796875 36.28125 \nz\n\" id=\"DejaVuSans-53\"/>\n      </defs>\n      <g transform=\"translate(122.643821 293.598437)scale(0.1 -0.1)\">\n       <use xlink:href=\"#DejaVuSans-8722\"/>\n       <use x=\"83.789062\" xlink:href=\"#DejaVuSans-49\"/>\n       <use x=\"147.412109\" xlink:href=\"#DejaVuSans-46\"/>\n       <use x=\"179.199219\" xlink:href=\"#DejaVuSans-53\"/>\n      </g>\n     </g>\n    </g>\n    <g id=\"xtick_3\">\n     <g id=\"line2d_3\">\n      <g>\n       <use style=\"stroke:#000000;stroke-width:0.8;\" x=\"198.194318\" xlink:href=\"#m22449ed0b1\" y=\"279\"/>\n      </g>\n     </g>\n     <g id=\"text_3\">\n      <!-- −1.0 -->\n      <g transform=\"translate(186.052912 293.598437)scale(0.1 -0.1)\">\n       <use xlink:href=\"#DejaVuSans-8722\"/>\n       <use x=\"83.789062\" xlink:href=\"#DejaVuSans-49\"/>\n       <use x=\"147.412109\" xlink:href=\"#DejaVuSans-46\"/>\n       <use x=\"179.199219\" xlink:href=\"#DejaVuSans-48\"/>\n      </g>\n     </g>\n    </g>\n    <g id=\"xtick_4\">\n     <g id=\"line2d_4\">\n      <g>\n       <use style=\"stroke:#000000;stroke-width:0.8;\" x=\"261.603409\" xlink:href=\"#m22449ed0b1\" y=\"279\"/>\n      </g>\n     </g>\n     <g id=\"text_4\">\n      <!-- −0.5 -->\n      <g transform=\"translate(249.462003 293.598437)scale(0.1 -0.1)\">\n       <use xlink:href=\"#DejaVuSans-8722\"/>\n       <use x=\"83.789062\" xlink:href=\"#DejaVuSans-48\"/>\n       <use x=\"147.412109\" xlink:href=\"#DejaVuSans-46\"/>\n       <use x=\"179.199219\" xlink:href=\"#DejaVuSans-53\"/>\n      </g>\n     </g>\n    </g>\n    <g id=\"xtick_5\">\n     <g id=\"line2d_5\">\n      <g>\n       <use style=\"stroke:#000000;stroke-width:0.8;\" x=\"325.0125\" xlink:href=\"#m22449ed0b1\" y=\"279\"/>\n      </g>\n     </g>\n     <g id=\"text_5\">\n      <!-- 0.0 -->\n      <g transform=\"translate(317.060937 293.598437)scale(0.1 -0.1)\">\n       <use xlink:href=\"#DejaVuSans-48\"/>\n       <use x=\"63.623047\" xlink:href=\"#DejaVuSans-46\"/>\n       <use x=\"95.410156\" xlink:href=\"#DejaVuSans-48\"/>\n      </g>\n     </g>\n    </g>\n    <g id=\"xtick_6\">\n     <g id=\"line2d_6\">\n      <g>\n       <use style=\"stroke:#000000;stroke-width:0.8;\" x=\"388.421591\" xlink:href=\"#m22449ed0b1\" y=\"279\"/>\n      </g>\n     </g>\n     <g id=\"text_6\">\n      <!-- 0.5 -->\n      <g transform=\"translate(380.470028 293.598437)scale(0.1 -0.1)\">\n       <use xlink:href=\"#DejaVuSans-48\"/>\n       <use x=\"63.623047\" xlink:href=\"#DejaVuSans-46\"/>\n       <use x=\"95.410156\" xlink:href=\"#DejaVuSans-53\"/>\n      </g>\n     </g>\n    </g>\n    <g id=\"xtick_7\">\n     <g id=\"line2d_7\">\n      <g>\n       <use style=\"stroke:#000000;stroke-width:0.8;\" x=\"451.830682\" xlink:href=\"#m22449ed0b1\" y=\"279\"/>\n      </g>\n     </g>\n     <g id=\"text_7\">\n      <!-- 1.0 -->\n      <g transform=\"translate(443.879119 293.598437)scale(0.1 -0.1)\">\n       <use xlink:href=\"#DejaVuSans-49\"/>\n       <use x=\"63.623047\" xlink:href=\"#DejaVuSans-46\"/>\n       <use x=\"95.410156\" xlink:href=\"#DejaVuSans-48\"/>\n      </g>\n     </g>\n    </g>\n    <g id=\"xtick_8\">\n     <g id=\"line2d_8\">\n      <g>\n       <use style=\"stroke:#000000;stroke-width:0.8;\" x=\"515.239773\" xlink:href=\"#m22449ed0b1\" y=\"279\"/>\n      </g>\n     </g>\n     <g id=\"text_8\">\n      <!-- 1.5 -->\n      <g transform=\"translate(507.28821 293.598437)scale(0.1 -0.1)\">\n       <use xlink:href=\"#DejaVuSans-49\"/>\n       <use x=\"63.623047\" xlink:href=\"#DejaVuSans-46\"/>\n       <use x=\"95.410156\" xlink:href=\"#DejaVuSans-53\"/>\n      </g>\n     </g>\n    </g>\n    <g id=\"xtick_9\">\n     <g id=\"line2d_9\">\n      <g>\n       <use style=\"stroke:#000000;stroke-width:0.8;\" x=\"578.648864\" xlink:href=\"#m22449ed0b1\" y=\"279\"/>\n      </g>\n     </g>\n     <g id=\"text_9\">\n      <!-- 2.0 -->\n      <g transform=\"translate(570.697301 293.598437)scale(0.1 -0.1)\">\n       <use xlink:href=\"#DejaVuSans-50\"/>\n       <use x=\"63.623047\" xlink:href=\"#DejaVuSans-46\"/>\n       <use x=\"95.410156\" xlink:href=\"#DejaVuSans-48\"/>\n      </g>\n     </g>\n    </g>\n   </g>\n   <g id=\"matplotlib.axis_2\">\n    <g id=\"ytick_1\">\n     <g id=\"line2d_10\">\n      <defs>\n       <path d=\"M 0 0 \nL -3.5 0 \n\" id=\"m77852ff2f8\" style=\"stroke:#000000;stroke-width:0.8;\"/>\n      </defs>\n      <g>\n       <use style=\"stroke:#000000;stroke-width:0.8;\" x=\"46.0125\" xlink:href=\"#m77852ff2f8\" y=\"279\"/>\n      </g>\n     </g>\n     <g id=\"text_10\">\n      <!-- 0 -->\n      <g transform=\"translate(32.65 282.799219)scale(0.1 -0.1)\">\n       <use xlink:href=\"#DejaVuSans-48\"/>\n      </g>\n     </g>\n    </g>\n    <g id=\"ytick_2\">\n     <g id=\"line2d_11\">\n      <g>\n       <use style=\"stroke:#000000;stroke-width:0.8;\" x=\"46.0125\" xlink:href=\"#m77852ff2f8\" y=\"230.252845\"/>\n      </g>\n     </g>\n     <g id=\"text_11\">\n      <!-- 5000 -->\n      <g transform=\"translate(13.5625 234.052064)scale(0.1 -0.1)\">\n       <use xlink:href=\"#DejaVuSans-53\"/>\n       <use x=\"63.623047\" xlink:href=\"#DejaVuSans-48\"/>\n       <use x=\"127.246094\" xlink:href=\"#DejaVuSans-48\"/>\n       <use x=\"190.869141\" xlink:href=\"#DejaVuSans-48\"/>\n      </g>\n     </g>\n    </g>\n    <g id=\"ytick_3\">\n     <g id=\"line2d_12\">\n      <g>\n       <use style=\"stroke:#000000;stroke-width:0.8;\" x=\"46.0125\" xlink:href=\"#m77852ff2f8\" y=\"181.50569\"/>\n      </g>\n     </g>\n     <g id=\"text_12\">\n      <!-- 10000 -->\n      <g transform=\"translate(7.2 185.304909)scale(0.1 -0.1)\">\n       <use xlink:href=\"#DejaVuSans-49\"/>\n       <use x=\"63.623047\" xlink:href=\"#DejaVuSans-48\"/>\n       <use x=\"127.246094\" xlink:href=\"#DejaVuSans-48\"/>\n       <use x=\"190.869141\" xlink:href=\"#DejaVuSans-48\"/>\n       <use x=\"254.492188\" xlink:href=\"#DejaVuSans-48\"/>\n      </g>\n     </g>\n    </g>\n    <g id=\"ytick_4\">\n     <g id=\"line2d_13\">\n      <g>\n       <use style=\"stroke:#000000;stroke-width:0.8;\" x=\"46.0125\" xlink:href=\"#m77852ff2f8\" y=\"132.758535\"/>\n      </g>\n     </g>\n     <g id=\"text_13\">\n      <!-- 15000 -->\n      <g transform=\"translate(7.2 136.557754)scale(0.1 -0.1)\">\n       <use xlink:href=\"#DejaVuSans-49\"/>\n       <use x=\"63.623047\" xlink:href=\"#DejaVuSans-53\"/>\n       <use x=\"127.246094\" xlink:href=\"#DejaVuSans-48\"/>\n       <use x=\"190.869141\" xlink:href=\"#DejaVuSans-48\"/>\n       <use x=\"254.492188\" xlink:href=\"#DejaVuSans-48\"/>\n      </g>\n     </g>\n    </g>\n    <g id=\"ytick_5\">\n     <g id=\"line2d_14\">\n      <g>\n       <use style=\"stroke:#000000;stroke-width:0.8;\" x=\"46.0125\" xlink:href=\"#m77852ff2f8\" y=\"84.01138\"/>\n      </g>\n     </g>\n     <g id=\"text_14\">\n      <!-- 20000 -->\n      <g transform=\"translate(7.2 87.810598)scale(0.1 -0.1)\">\n       <use xlink:href=\"#DejaVuSans-50\"/>\n       <use x=\"63.623047\" xlink:href=\"#DejaVuSans-48\"/>\n       <use x=\"127.246094\" xlink:href=\"#DejaVuSans-48\"/>\n       <use x=\"190.869141\" xlink:href=\"#DejaVuSans-48\"/>\n       <use x=\"254.492188\" xlink:href=\"#DejaVuSans-48\"/>\n      </g>\n     </g>\n    </g>\n    <g id=\"ytick_6\">\n     <g id=\"line2d_15\">\n      <g>\n       <use style=\"stroke:#000000;stroke-width:0.8;\" x=\"46.0125\" xlink:href=\"#m77852ff2f8\" y=\"35.264225\"/>\n      </g>\n     </g>\n     <g id=\"text_15\">\n      <!-- 25000 -->\n      <g transform=\"translate(7.2 39.063443)scale(0.1 -0.1)\">\n       <use xlink:href=\"#DejaVuSans-50\"/>\n       <use x=\"63.623047\" xlink:href=\"#DejaVuSans-53\"/>\n       <use x=\"127.246094\" xlink:href=\"#DejaVuSans-48\"/>\n       <use x=\"190.869141\" xlink:href=\"#DejaVuSans-48\"/>\n       <use x=\"254.492188\" xlink:href=\"#DejaVuSans-48\"/>\n      </g>\n     </g>\n    </g>\n   </g>\n   <g id=\"patch_13\">\n    <path d=\"M 46.0125 279 \nL 46.0125 7.2 \n\" style=\"fill:none;stroke:#000000;stroke-linecap:square;stroke-linejoin:miter;stroke-width:0.8;\"/>\n   </g>\n   <g id=\"patch_14\">\n    <path d=\"M 604.0125 279 \nL 604.0125 7.2 \n\" style=\"fill:none;stroke:#000000;stroke-linecap:square;stroke-linejoin:miter;stroke-width:0.8;\"/>\n   </g>\n   <g id=\"patch_15\">\n    <path d=\"M 46.0125 279 \nL 604.0125 279 \n\" style=\"fill:none;stroke:#000000;stroke-linecap:square;stroke-linejoin:miter;stroke-width:0.8;\"/>\n   </g>\n   <g id=\"patch_16\">\n    <path d=\"M 46.0125 7.2 \nL 604.0125 7.2 \n\" style=\"fill:none;stroke:#000000;stroke-linecap:square;stroke-linejoin:miter;stroke-width:0.8;\"/>\n   </g>\n  </g>\n </g>\n <defs>\n  <clipPath id=\"p125222196c\">\n   <rect height=\"271.8\" width=\"558\" x=\"46.0125\" y=\"7.2\"/>\n  </clipPath>\n </defs>\n</svg>\n",
      "image/png": "[encoded data removed]"
     },
     "metadata": {
      "needs_background": "light"
     }
    }
   ],
   "source": [
    "plt.figure(figsize=(10, 5))\n",
    "plt.hist(df['Thermal sensation'])"
   ]
  },
  {
   "cell_type": "code",
   "execution_count": 34,
   "metadata": {},
   "outputs": [],
   "source": [
    "df.to_csv('data/ahrae_processed.csv', index=False)"
   ]
  },
  {
   "cell_type": "code",
   "execution_count": 35,
   "metadata": {},
   "outputs": [],
   "source": [
    "X = df.drop('Thermal sensation', axis=1)\n",
    "y = df['Thermal sensation']"
   ]
  },
  {
   "cell_type": "code",
   "execution_count": 41,
   "metadata": {},
   "outputs": [],
   "source": [
    "X_train, X_test, y_train, y_test = train_test_split(X, y, test_size=0.33, random_state=42)"
   ]
  },
  {
   "cell_type": "code",
   "execution_count": 42,
   "metadata": {},
   "outputs": [],
   "source": [
    "regr = RandomForestClassifier(max_depth=2, random_state=0).fit(X_train, y_train)"
   ]
  },
  {
   "cell_type": "code",
   "execution_count": 43,
   "metadata": {},
   "outputs": [],
   "source": [
    "y_pred = regr.predict(X_test)"
   ]
  },
  {
   "cell_type": "code",
   "execution_count": 46,
   "metadata": {},
   "outputs": [
    {
     "output_type": "execute_result",
     "data": {
      "text/plain": "0.01601693206201651"
     },
     "metadata": {},
     "execution_count": 46
    }
   ],
   "source": [
    "matthews_corrcoef(y_test, y_pred)"
   ]
  },
  {
   "cell_type": "code",
   "execution_count": 29,
   "metadata": {},
   "outputs": [],
   "source": [
    "# first undersample the majority class"
   ]
  },
  {
   "cell_type": "code",
   "execution_count": 50,
   "metadata": {
    "tags": []
   },
   "outputs": [
    {
     "output_type": "execute_result",
     "data": {
      "text/plain": "Counter({-0.0: 26551, -2.0: 5023, 1.0: 10248, -1.0: 10059, 2.0: 7010})"
     },
     "metadata": {},
     "execution_count": 50
    }
   ],
   "source": [
    "Counter(y)"
   ]
  },
  {
   "cell_type": "code",
   "execution_count": 51,
   "metadata": {},
   "outputs": [],
   "source": [
    "oversample = SMOTE()\n",
    "X, y = oversample.fit_resample(X, y)"
   ]
  },
  {
   "cell_type": "code",
   "execution_count": 52,
   "metadata": {},
   "outputs": [
    {
     "output_type": "execute_result",
     "data": {
      "text/plain": "Counter({-0.0: 26551, -2.0: 26551, 1.0: 26551, -1.0: 26551, 2.0: 26551})"
     },
     "metadata": {},
     "execution_count": 52
    }
   ],
   "source": [
    "Counter(y)"
   ]
  },
  {
   "cell_type": "code",
   "execution_count": 54,
   "metadata": {},
   "outputs": [],
   "source": [
    "X_train, X_test, y_train, y_test = train_test_split(X, y, test_size=0.33, random_state=42)"
   ]
  },
  {
   "cell_type": "code",
   "execution_count": 55,
   "metadata": {},
   "outputs": [
    {
     "output_type": "execute_result",
     "data": {
      "text/plain": "0.17440569565675376"
     },
     "metadata": {},
     "execution_count": 55
    }
   ],
   "source": [
    "regr = RandomForestClassifier(max_depth=2, random_state=0).fit(X_train, y_train)\n",
    "y_pred = regr.predict(X_test)\n",
    "matthews_corrcoef(y_test, y_pred)"
   ]
  },
  {
   "cell_type": "code",
   "execution_count": 65,
   "metadata": {},
   "outputs": [],
   "source": [
    "X = df.drop('Thermal sensation', axis=1)\n",
    "y = df['Thermal sensation']"
   ]
  },
  {
   "cell_type": "code",
   "execution_count": 66,
   "metadata": {},
   "outputs": [],
   "source": [
    "oversample = SMOTE(sampling_strategy={-0.0: 26551, -2.0: 11000, 1.0: 11000, -1.0: 11000, 2.0: 11000})\n",
    "undersample = RandomUnderSampler(sampling_strategy={-0.0: 11000, -2.0: 11000, 1.0: 11000, -1.0: 11000, 2.0: 11000})\n",
    "X, y = oversample.fit_resample(X, y)\n",
    "X, y = undersample.fit_resample(X, y)"
   ]
  },
  {
   "cell_type": "code",
   "execution_count": 67,
   "metadata": {},
   "outputs": [
    {
     "output_type": "execute_result",
     "data": {
      "text/plain": "Counter({-2.0: 11000, -1.0: 11000, 0.0: 11000, 1.0: 11000, 2.0: 11000})"
     },
     "metadata": {},
     "execution_count": 67
    }
   ],
   "source": [
    "Counter(y)"
   ]
  },
  {
   "cell_type": "code",
   "execution_count": 68,
   "metadata": {},
   "outputs": [],
   "source": [
    "X_train, X_test, y_train, y_test = train_test_split(X, y, test_size=0.33, random_state=42)"
   ]
  },
  {
   "cell_type": "code",
   "execution_count": 96,
   "metadata": {},
   "outputs": [
    {
     "output_type": "execute_result",
     "data": {
      "text/plain": "26"
     },
     "metadata": {},
     "execution_count": 96
    }
   ],
   "source": [
    "len(X.columns)"
   ]
  },
  {
   "cell_type": "code",
   "execution_count": 121,
   "metadata": {},
   "outputs": [
    {
     "output_type": "execute_result",
     "data": {
      "text/plain": "0.3652203687902468"
     },
     "metadata": {},
     "execution_count": 121
    }
   ],
   "source": [
    "regr = RandomForestClassifier(max_depth=None, random_state=42, n_jobs=-1, max_features=7, n_estimators=300).fit(X_train, y_train)\n",
    "y_pred = regr.predict(X_test)\n",
    "matthews_corrcoef(y_test, y_pred)"
   ]
  },
  {
   "cell_type": "code",
   "execution_count": null,
   "metadata": {},
   "outputs": [],
   "source": []
  }
 ],
 "metadata": {
  "language_info": {
   "codemirror_mode": {
    "name": "ipython",
    "version": 3
   },
   "file_extension": ".py",
   "mimetype": "text/x-python",
   "name": "python",
   "nbconvert_exporter": "python",
   "pygments_lexer": "ipython3",
   "version": "3.7.7-final"
  },
  "orig_nbformat": 2,
  "kernelspec": {
   "name": "python_defaultSpec_1599488831802",
   "display_name": "Python 3.7.7 64-bit ('tf2': conda)"
  }
 },
 "nbformat": 4,
 "nbformat_minor": 2
}